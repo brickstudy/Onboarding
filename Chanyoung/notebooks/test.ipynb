{
 "cells": [
  {
   "cell_type": "markdown",
   "id": "b969a526-3935-44c8-8ac8-0d7b33e9dcdf",
   "metadata": {},
   "source": [
    "# Brickstudy Onboarding first week\n",
    "\n",
    "## Onboarding assignment : Spark\n"
   ]
  },
  {
   "cell_type": "code",
   "execution_count": null,
   "id": "d833d543-8c0a-4263-9422-6dea7f63c5b7",
   "metadata": {},
   "outputs": [],
   "source": []
  },
  {
   "cell_type": "code",
   "execution_count": null,
   "id": "28273c99-d2b1-439b-b89a-881bf08a413f",
   "metadata": {},
   "outputs": [],
   "source": []
  }
 ],
 "metadata": {
  "kernelspec": {
   "display_name": "Python 3 (ipykernel)",
   "language": "python",
   "name": "python3"
  },
  "language_info": {
   "codemirror_mode": {
    "name": "ipython",
    "version": 3
   },
   "file_extension": ".py",
   "mimetype": "text/x-python",
   "name": "python",
   "nbconvert_exporter": "python",
   "pygments_lexer": "ipython3",
   "version": "3.11.6"
  }
 },
 "nbformat": 4,
 "nbformat_minor": 5
}
