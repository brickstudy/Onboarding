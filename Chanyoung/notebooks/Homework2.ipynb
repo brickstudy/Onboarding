{
 "cells": [
  {
   "cell_type": "markdown",
   "id": "7c5233c3-5581-460f-a828-72f1df24d09a",
   "metadata": {},
   "source": [
    "# Brickstudy Homework2 -chanyoung"
   ]
  },
  {
   "cell_type": "markdown",
   "id": "ce58897a-13dd-4e8e-b03e-2cc4f2655aaf",
   "metadata": {},
   "source": [
    "## custom ETL, and process"
   ]
  },
  {
   "cell_type": "code",
   "execution_count": 4,
   "id": "76d2bfe3-3647-473f-a775-63671915cfc9",
   "metadata": {},
   "outputs": [],
   "source": [
    "from pyspark.sql import SparkSession\n",
    "\n",
    "# Create spark session   # spark session instance 구성 및 생성 # set spark application name, we can identify by name\n",
    "spark = SparkSession.builder \\\n",
    "    .appName(\"OnboardingHomework2_C\") \\\n",
    "    .getOrCreate()\n",
    "\n",
    "\n",
    "# Read csv file\n",
    "article = spark.read.csv(\"./data/article_info.csv\", header=True, inferSchema=True)\n",
    "view_log = spark.read.csv(\"./data/view_log.csv\", header=True, inferSchema=True)\n"
   ]
  },
  {
   "cell_type": "code",
   "execution_count": 5,
   "id": "ee841710-881f-4d67-8167-9a49d9589942",
   "metadata": {},
   "outputs": [
    {
     "name": "stdout",
     "output_type": "stream",
     "text": [
      "+------------+--------------------+--------------------+--------------------+--------------------+--------------------+--------------------+--------------------+\n",
      "|   articleID|               Title|             Content|              Format|            Language|              userID|         userCountry|          userRegion|\n",
      "+------------+--------------------+--------------------+--------------------+--------------------+--------------------+--------------------+--------------------+\n",
      "|ARTICLE_0000|19 Tips For Every...|\"I've been using ...| I once had a man...| edit it a little...| git has a --pret...|              author|            and date|\n",
      "|ARTICLE_0001|Intel buys comput...|\"Intel has acquir...|\"\" which allows c...| another Internet...| Yogitech works o...| which makes chip...|            software|\n",
      "|ARTICLE_0002|Practical End-to-...|\"One of the reaso...| then the form it...| we'll want to ta...| we can use the b...| we'll see that t...| but we can see t...|\n",
      "|ARTICLE_0003|Corporate venture...|\"Despite recent p...|\"\" the crude real...| aggravated by th...| the consequences...|       for investors| it's a lifetime ...|\n",
      "|ARTICLE_0004|Cross-channel use...|\"Last year around...| ask Gourmet Mark...| Alexa would make...| finding what is ...| a store manager ...| and Alexa's voic...|\n",
      "|ARTICLE_0005|Conheça o Relatór...|Já havíamos falad...|                HTML|                  pt|           USER_1324|                NULL|                NULL|\n",
      "|ARTICLE_0006|Setting Up HTTP(S...|HTTP(S) load bala...|                HTML|                  en|           USER_1304|                NULL|                NULL|\n",
      "|ARTICLE_0007|The 200 billion d...|\"In 2014, Faceboo...| get an answer to...| let's itemize th...| reducing the com...| chatbots allow f...| it can happen se...|\n",
      "|ARTICLE_0008|Google's artifici...|\"Artificial intel...| Google showed ho...| or find a movie ...| as you would wit...| with a bot calle...| like recognizing...|\n",
      "|ARTICLE_0009|Spotify UI built ...|Here is an intere...|                HTML|                  en|           USER_1421|                NULL|                NULL|\n",
      "|ARTICLE_0010|      Blog | Niantic|With Google Cloud...|                HTML|                  en|           USER_0674|                  BR|                  SP|\n",
      "|ARTICLE_0011|Microsoft adds Py...|\"Microsoft is add...|    \"\" said XD Huang| Microsoft chief ...| but \"\"our missio...|\"\" not only for w...| but for differen...|\n",
      "|ARTICLE_0012|FH fecha contrato...|\"Colaboração A FH...|   hosting e suporte| o que traz mais ...| aponta. De acord...| Executivo de Ven...| o OEM é um model...|\n",
      "|ARTICLE_0013|Campaigns Are Dea...|\"Consumers and Ma...|                HTML|                  en|           USER_0798|                NULL|                NULL|\n",
      "|ARTICLE_0014|Machine learning ...|Is there a limit ...|                HTML|                  en|           USER_0336|                NULL|                NULL|\n",
      "|ARTICLE_0015|TF-Slim: A high l...|Earlier this year...|                HTML|                  en|           USER_0222|                NULL|                NULL|\n",
      "|ARTICLE_0016|The new-world ins...|\"Silicon Valley i...|\"\" says Cover CEO...| because they exp...| their intent is ...| like people taki...| end-to-end mobil...|\n",
      "|ARTICLE_0017|Margaret Gould St...|\"Facebook's \"\"lik...| making them some...| Facebook's direc...| outlines three r...| but also so larg...|               VIDEO|\n",
      "|ARTICLE_0018|Microsoft comprar...|\"São Paulo - A Mi...| disse Nadella no...| podemos acelerar...| assim como do Mi...| à medida que pro...| essa relação com...|\n",
      "|ARTICLE_0019|The Digital Trans...|\"It can feel diff...| being well-index...| yet the end resu...| so there is some...| but the sum of i...|                HTML|\n",
      "+------------+--------------------+--------------------+--------------------+--------------------+--------------------+--------------------+--------------------+\n",
      "only showing top 20 rows\n",
      "\n",
      "+---------+------------+----------+-----------+\n",
      "|   userID|   articleID|userRegion|userCountry|\n",
      "+---------+------------+----------+-----------+\n",
      "|USER_0000|ARTICLE_0661|        NY|         US|\n",
      "|USER_0000|ARTICLE_2316|        NY|         US|\n",
      "|USER_0000|ARTICLE_1345|        NY|         US|\n",
      "|USER_0000|ARTICLE_1089|        NY|         US|\n",
      "|USER_0000|ARTICLE_1484|        NY|         US|\n",
      "|USER_0000|ARTICLE_1033|        NY|         US|\n",
      "|USER_0000|ARTICLE_1033|        NY|         US|\n",
      "|USER_0000|ARTICLE_2255|        NY|         US|\n",
      "|USER_0000|ARTICLE_1260|        NY|         US|\n",
      "|USER_0000|ARTICLE_0090|        NY|         US|\n",
      "|USER_0000|ARTICLE_2255|        NY|         US|\n",
      "|USER_0000|ARTICLE_0938|        NY|         US|\n",
      "|USER_0000|ARTICLE_2286|        NY|         US|\n",
      "|USER_0000|ARTICLE_1769|        NY|         US|\n",
      "|USER_0000|ARTICLE_2316|        NY|         US|\n",
      "|USER_0000|ARTICLE_0884|        NY|         US|\n",
      "|USER_0000|ARTICLE_1198|        CA|         US|\n",
      "|USER_0000|ARTICLE_2255|        NY|         US|\n",
      "|USER_0000|ARTICLE_2834|        NY|         US|\n",
      "|USER_0000|ARTICLE_1345|        NY|         US|\n",
      "+---------+------------+----------+-----------+\n",
      "only showing top 20 rows\n",
      "\n"
     ]
    }
   ],
   "source": [
    "article.show()\n",
    "view_log.show()"
   ]
  },
  {
   "cell_type": "code",
   "execution_count": 43,
   "id": "2c7bea0b-d285-4db0-8059-5f5756ff0410",
   "metadata": {},
   "outputs": [],
   "source": [
    "# article_info 의 user_ID를 article.user_id로 변경 \n",
    "article_selected = article.select(\n",
    "    col(\"articleID\"),\n",
    "    col(\"Title\"),\n",
    "    col(\"Content\"),\n",
    "    col(\"userID\").alias(\"article_userID\")\n",
    ")\n"
   ]
  },
  {
   "cell_type": "code",
   "execution_count": 34,
   "id": "fb3b4d9a-544d-4ad4-842a-e99073874bb8",
   "metadata": {},
   "outputs": [
    {
     "name": "stdout",
     "output_type": "stream",
     "text": [
      "+------------+---------+----------+-----------+--------------------+--------------------+--------------------+--------------------+--------------------+\n",
      "|   articleID|   userID|userRegion|userCountry|               Title|             Content|              Format|            Language|      article_userID|\n",
      "+------------+---------+----------+-----------+--------------------+--------------------+--------------------+--------------------+--------------------+\n",
      "|ARTICLE_0000|USER_1243|        SP|         BR|19 Tips For Every...|\"I've been using ...| I once had a man...| edit it a little...| git has a --pret...|\n",
      "|ARTICLE_0000|USER_1144|        MG|         BR|19 Tips For Every...|\"I've been using ...| I once had a man...| edit it a little...| git has a --pret...|\n",
      "|ARTICLE_0000|USER_1019|        SP|         BR|19 Tips For Every...|\"I've been using ...| I once had a man...| edit it a little...| git has a --pret...|\n",
      "|ARTICLE_0000|USER_1005|        SP|         BR|19 Tips For Every...|\"I've been using ...| I once had a man...| edit it a little...| git has a --pret...|\n",
      "|ARTICLE_0000|USER_0913|        SP|         BR|19 Tips For Every...|\"I've been using ...| I once had a man...| edit it a little...| git has a --pret...|\n",
      "|ARTICLE_0000|USER_0750|        SP|         BR|19 Tips For Every...|\"I've been using ...| I once had a man...| edit it a little...| git has a --pret...|\n",
      "|ARTICLE_0000|USER_0695|        MG|         BR|19 Tips For Every...|\"I've been using ...| I once had a man...| edit it a little...| git has a --pret...|\n",
      "|ARTICLE_0000|USER_0683|        MG|         BR|19 Tips For Every...|\"I've been using ...| I once had a man...| edit it a little...| git has a --pret...|\n",
      "|ARTICLE_0000|USER_0683|        MG|         BR|19 Tips For Every...|\"I've been using ...| I once had a man...| edit it a little...| git has a --pret...|\n",
      "|ARTICLE_0000|USER_0625|        SP|         BR|19 Tips For Every...|\"I've been using ...| I once had a man...| edit it a little...| git has a --pret...|\n",
      "|ARTICLE_0000|USER_0595|        SP|         BR|19 Tips For Every...|\"I've been using ...| I once had a man...| edit it a little...| git has a --pret...|\n",
      "|ARTICLE_0000|USER_0566|        MG|         BR|19 Tips For Every...|\"I've been using ...| I once had a man...| edit it a little...| git has a --pret...|\n",
      "|ARTICLE_0000|USER_0566|        MG|         BR|19 Tips For Every...|\"I've been using ...| I once had a man...| edit it a little...| git has a --pret...|\n",
      "|ARTICLE_0000|USER_0396|        MG|         BR|19 Tips For Every...|\"I've been using ...| I once had a man...| edit it a little...| git has a --pret...|\n",
      "|ARTICLE_0000|USER_0323|        SP|         BR|19 Tips For Every...|\"I've been using ...| I once had a man...| edit it a little...| git has a --pret...|\n",
      "|ARTICLE_0000|USER_0270|        MG|         BR|19 Tips For Every...|\"I've been using ...| I once had a man...| edit it a little...| git has a --pret...|\n",
      "|ARTICLE_0000|USER_0252|        SP|         BR|19 Tips For Every...|\"I've been using ...| I once had a man...| edit it a little...| git has a --pret...|\n",
      "|ARTICLE_0000|USER_0186|        SP|         BR|19 Tips For Every...|\"I've been using ...| I once had a man...| edit it a little...| git has a --pret...|\n",
      "|ARTICLE_0000|USER_0106|        SP|         BR|19 Tips For Every...|\"I've been using ...| I once had a man...| edit it a little...| git has a --pret...|\n",
      "|ARTICLE_0000|USER_0106|        SP|         BR|19 Tips For Every...|\"I've been using ...| I once had a man...| edit it a little...| git has a --pret...|\n",
      "+------------+---------+----------+-----------+--------------------+--------------------+--------------------+--------------------+--------------------+\n",
      "only showing top 20 rows\n",
      "\n",
      "42717\n"
     ]
    }
   ],
   "source": [
    "# Join 데이터프레임\n",
    "joined_df = view_log.join(article_selected, on=\"articleID\", how=\"inner\")\n",
    "\n",
    "# 결과 출력\n",
    "joined_df.show()\n",
    "print(joined_df.count())"
   ]
  },
  {
   "cell_type": "code",
   "execution_count": 35,
   "id": "837d8337-7102-4cee-8676-977c201b6553",
   "metadata": {},
   "outputs": [
    {
     "name": "stdout",
     "output_type": "stream",
     "text": [
      "+------------+---------+----------+-----------+--------------------+--------------------+--------------------+--------------------+--------------------+\n",
      "|   articleID|   userID|userRegion|userCountry|               Title|             Content|              Format|            Language|      article_userID|\n",
      "+------------+---------+----------+-----------+--------------------+--------------------+--------------------+--------------------+--------------------+\n",
      "|ARTICLE_0000|USER_1243|        SP|         BR|19 Tips For Every...|\"I've been using ...| I once had a man...| edit it a little...| git has a --pret...|\n",
      "|ARTICLE_0000|USER_1144|        MG|         BR|19 Tips For Every...|\"I've been using ...| I once had a man...| edit it a little...| git has a --pret...|\n",
      "|ARTICLE_0000|USER_1019|        SP|         BR|19 Tips For Every...|\"I've been using ...| I once had a man...| edit it a little...| git has a --pret...|\n",
      "|ARTICLE_0000|USER_1005|        SP|         BR|19 Tips For Every...|\"I've been using ...| I once had a man...| edit it a little...| git has a --pret...|\n",
      "|ARTICLE_0000|USER_0913|        SP|         BR|19 Tips For Every...|\"I've been using ...| I once had a man...| edit it a little...| git has a --pret...|\n",
      "|ARTICLE_0000|USER_0750|        SP|         BR|19 Tips For Every...|\"I've been using ...| I once had a man...| edit it a little...| git has a --pret...|\n",
      "|ARTICLE_0000|USER_0695|        MG|         BR|19 Tips For Every...|\"I've been using ...| I once had a man...| edit it a little...| git has a --pret...|\n",
      "|ARTICLE_0000|USER_0683|        MG|         BR|19 Tips For Every...|\"I've been using ...| I once had a man...| edit it a little...| git has a --pret...|\n",
      "|ARTICLE_0000|USER_0683|        MG|         BR|19 Tips For Every...|\"I've been using ...| I once had a man...| edit it a little...| git has a --pret...|\n",
      "|ARTICLE_0000|USER_0625|        SP|         BR|19 Tips For Every...|\"I've been using ...| I once had a man...| edit it a little...| git has a --pret...|\n",
      "|ARTICLE_0000|USER_0595|        SP|         BR|19 Tips For Every...|\"I've been using ...| I once had a man...| edit it a little...| git has a --pret...|\n",
      "|ARTICLE_0000|USER_0566|        MG|         BR|19 Tips For Every...|\"I've been using ...| I once had a man...| edit it a little...| git has a --pret...|\n",
      "|ARTICLE_0000|USER_0566|        MG|         BR|19 Tips For Every...|\"I've been using ...| I once had a man...| edit it a little...| git has a --pret...|\n",
      "|ARTICLE_0000|USER_0396|        MG|         BR|19 Tips For Every...|\"I've been using ...| I once had a man...| edit it a little...| git has a --pret...|\n",
      "|ARTICLE_0000|USER_0323|        SP|         BR|19 Tips For Every...|\"I've been using ...| I once had a man...| edit it a little...| git has a --pret...|\n",
      "|ARTICLE_0000|USER_0270|        MG|         BR|19 Tips For Every...|\"I've been using ...| I once had a man...| edit it a little...| git has a --pret...|\n",
      "|ARTICLE_0000|USER_0252|        SP|         BR|19 Tips For Every...|\"I've been using ...| I once had a man...| edit it a little...| git has a --pret...|\n",
      "|ARTICLE_0000|USER_0186|        SP|         BR|19 Tips For Every...|\"I've been using ...| I once had a man...| edit it a little...| git has a --pret...|\n",
      "|ARTICLE_0000|USER_0106|        SP|         BR|19 Tips For Every...|\"I've been using ...| I once had a man...| edit it a little...| git has a --pret...|\n",
      "|ARTICLE_0000|USER_0106|        SP|         BR|19 Tips For Every...|\"I've been using ...| I once had a man...| edit it a little...| git has a --pret...|\n",
      "+------------+---------+----------+-----------+--------------------+--------------------+--------------------+--------------------+--------------------+\n",
      "only showing top 20 rows\n",
      "\n"
     ]
    }
   ],
   "source": [
    "from pyspark.sql.functions import col\n",
    "\n",
    "# 결측치 및 이상치 제거\n",
    "# 정규 표현식 패턴\n",
    "user_pattern = r'^USER_\\d{4}$'\n",
    "article_pattern = r'^ARTICLE_\\d{4}$'\n",
    "\n",
    "# \"USER_0683\" 형태의 userID와 articleID 필터링\n",
    "join_df_clean = joined_df.filter(\n",
    "    (col(\"userID\").rlike(user_pattern)) & (col(\"articleID\").rlike(article_pattern))\n",
    ")\n",
    "join_df_clean = join_df_clean.filter(col(\"userRegion\") != \"Unknown\")\n",
    "\n",
    "join_df_clean = join_df_clean.dropna()\n",
    "\n",
    "join_df_clean.show()"
   ]
  },
  {
   "cell_type": "code",
   "execution_count": 36,
   "id": "a8628832-0412-475b-9434-eccf6c4d4d91",
   "metadata": {},
   "outputs": [
    {
     "name": "stdout",
     "output_type": "stream",
     "text": [
      "+---------+------------+---------------+----------------+\n",
      "|   userID|   articleID|userRegionIndex|userCountryIndex|\n",
      "+---------+------------+---------------+----------------+\n",
      "|USER_1243|ARTICLE_0000|            0.0|             0.0|\n",
      "|USER_1144|ARTICLE_0000|            1.0|             0.0|\n",
      "|USER_1019|ARTICLE_0000|            0.0|             0.0|\n",
      "|USER_1005|ARTICLE_0000|            0.0|             0.0|\n",
      "|USER_0913|ARTICLE_0000|            0.0|             0.0|\n",
      "|USER_0750|ARTICLE_0000|            0.0|             0.0|\n",
      "|USER_0695|ARTICLE_0000|            1.0|             0.0|\n",
      "|USER_0683|ARTICLE_0000|            1.0|             0.0|\n",
      "|USER_0683|ARTICLE_0000|            1.0|             0.0|\n",
      "|USER_0625|ARTICLE_0000|            0.0|             0.0|\n",
      "|USER_0595|ARTICLE_0000|            0.0|             0.0|\n",
      "|USER_0566|ARTICLE_0000|            1.0|             0.0|\n",
      "|USER_0566|ARTICLE_0000|            1.0|             0.0|\n",
      "|USER_0396|ARTICLE_0000|            1.0|             0.0|\n",
      "|USER_0323|ARTICLE_0000|            0.0|             0.0|\n",
      "|USER_0270|ARTICLE_0000|            1.0|             0.0|\n",
      "|USER_0252|ARTICLE_0000|            0.0|             0.0|\n",
      "|USER_0186|ARTICLE_0000|            0.0|             0.0|\n",
      "|USER_0106|ARTICLE_0000|            0.0|             0.0|\n",
      "|USER_0106|ARTICLE_0000|            0.0|             0.0|\n",
      "+---------+------------+---------------+----------------+\n",
      "only showing top 20 rows\n",
      "\n"
     ]
    }
   ],
   "source": [
    "from pyspark.ml.feature import StringIndexer\n",
    "from pyspark.ml import Pipeline\n",
    "\n",
    "\n",
    "# StringIndexer 설정\n",
    "indexers = [\n",
    "    StringIndexer(inputCol=\"userRegion\", outputCol=\"userRegionIndex\"),\n",
    "    StringIndexer(inputCol=\"userCountry\", outputCol=\"userCountryIndex\")\n",
    "]\n",
    "\n",
    "# Pipeline 설정\n",
    "pipeline = Pipeline(stages=indexers)\n",
    "\n",
    "# Pipeline을 사용하여 데이터 변환\n",
    "model = pipeline.fit(join_df_clean)\n",
    "encoded_df = model.transform(join_df_clean)\n",
    "\n",
    "encoded_df.select(\"userID\", \"articleID\", \"userRegionIndex\", \"userCountryIndex\").show()"
   ]
  },
  {
   "cell_type": "code",
   "execution_count": 37,
   "id": "ff239023-796e-4d42-8c6c-7c38b6ef2fab",
   "metadata": {},
   "outputs": [
    {
     "name": "stdout",
     "output_type": "stream",
     "text": [
      "+---------+------------+--------------------+---------------------+\n",
      "|   userID|   articleID| FilteredTitleTokens|FilteredContentTokens|\n",
      "+---------+------------+--------------------+---------------------+\n",
      "|USER_1243|ARTICLE_0000|[19, tips, everyd...| [\"i've, using, gi...|\n",
      "|USER_1144|ARTICLE_0000|[19, tips, everyd...| [\"i've, using, gi...|\n",
      "|USER_1019|ARTICLE_0000|[19, tips, everyd...| [\"i've, using, gi...|\n",
      "|USER_1005|ARTICLE_0000|[19, tips, everyd...| [\"i've, using, gi...|\n",
      "|USER_0913|ARTICLE_0000|[19, tips, everyd...| [\"i've, using, gi...|\n",
      "|USER_0750|ARTICLE_0000|[19, tips, everyd...| [\"i've, using, gi...|\n",
      "|USER_0695|ARTICLE_0000|[19, tips, everyd...| [\"i've, using, gi...|\n",
      "|USER_0683|ARTICLE_0000|[19, tips, everyd...| [\"i've, using, gi...|\n",
      "|USER_0683|ARTICLE_0000|[19, tips, everyd...| [\"i've, using, gi...|\n",
      "|USER_0625|ARTICLE_0000|[19, tips, everyd...| [\"i've, using, gi...|\n",
      "|USER_0595|ARTICLE_0000|[19, tips, everyd...| [\"i've, using, gi...|\n",
      "|USER_0566|ARTICLE_0000|[19, tips, everyd...| [\"i've, using, gi...|\n",
      "|USER_0566|ARTICLE_0000|[19, tips, everyd...| [\"i've, using, gi...|\n",
      "|USER_0396|ARTICLE_0000|[19, tips, everyd...| [\"i've, using, gi...|\n",
      "|USER_0323|ARTICLE_0000|[19, tips, everyd...| [\"i've, using, gi...|\n",
      "|USER_0270|ARTICLE_0000|[19, tips, everyd...| [\"i've, using, gi...|\n",
      "|USER_0252|ARTICLE_0000|[19, tips, everyd...| [\"i've, using, gi...|\n",
      "|USER_0186|ARTICLE_0000|[19, tips, everyd...| [\"i've, using, gi...|\n",
      "|USER_0106|ARTICLE_0000|[19, tips, everyd...| [\"i've, using, gi...|\n",
      "|USER_0106|ARTICLE_0000|[19, tips, everyd...| [\"i've, using, gi...|\n",
      "+---------+------------+--------------------+---------------------+\n",
      "only showing top 20 rows\n",
      "\n"
     ]
    }
   ],
   "source": [
    "from pyspark.ml.feature import Tokenizer, StopWordsRemover\n",
    "\n",
    "# Title과 Content 컬럼 토크나이즈 및 불용어 제거\n",
    "tokenizer = Tokenizer(inputCol=\"Title\", outputCol=\"TitleTokens\")\n",
    "content_tokenizer = Tokenizer(inputCol=\"Content\", outputCol=\"ContentTokens\")\n",
    "remover = StopWordsRemover(inputCol=\"TitleTokens\", outputCol=\"FilteredTitleTokens\")\n",
    "content_remover = StopWordsRemover(inputCol=\"ContentTokens\", outputCol=\"FilteredContentTokens\")\n",
    "\n",
    "pipeline = Pipeline(stages=[tokenizer, content_tokenizer, remover, content_remover])\n",
    "model = pipeline.fit(encoded_df)\n",
    "tokenized_df = model.transform(encoded_df)\n",
    "\n",
    "# 결과 확인\n",
    "tokenized_df.select(\"userID\", \"articleID\", \"FilteredTitleTokens\", \"FilteredContentTokens\").show()\n"
   ]
  },
  {
   "cell_type": "code",
   "execution_count": 40,
   "id": "5addb4cf-22b8-4abc-b9de-c8aa72e66fe1",
   "metadata": {},
   "outputs": [],
   "source": [
    "# 데이터 선택 및 저장\n",
    "result_df = tokenized_df.select(\n",
    "    col(\"articleID\"),\n",
    "    col(\"userID\"),\n",
    "    col(\"userRegionIndex\"),\n",
    "    col(\"userCountryIndex\"),\n",
    "    col(\"FilteredTitleTokens\"),\n",
    "    col(\"FilteredContentTokens\"),\n",
    "\n",
    ")"
   ]
  },
  {
   "cell_type": "code",
   "execution_count": 41,
   "id": "b39fdf09-bf8d-4bb7-b4d5-52e1c19aa079",
   "metadata": {},
   "outputs": [],
   "source": [
    "output_path = \"./result\"\n",
    "result_df.write.parquet(output_path, mode=\"overwrite\")\n"
   ]
  },
  {
   "cell_type": "code",
   "execution_count": 42,
   "id": "2a7ca557-7d0a-484e-8dcb-17ffef533618",
   "metadata": {},
   "outputs": [
    {
     "name": "stdout",
     "output_type": "stream",
     "text": [
      "+------------+---------+---------------+----------------+--------------------+---------------------+\n",
      "|   articleID|   userID|userRegionIndex|userCountryIndex| FilteredTitleTokens|FilteredContentTokens|\n",
      "+------------+---------+---------------+----------------+--------------------+---------------------+\n",
      "|ARTICLE_0753|USER_1357|            1.0|             0.0|[como, usar, o, g...| [\"lição, 1:, nave...|\n",
      "|ARTICLE_0753|USER_1357|            1.0|             0.0|[como, usar, o, g...| [\"lição, 1:, nave...|\n",
      "|ARTICLE_0753|USER_1353|            1.0|             0.0|[como, usar, o, g...| [\"lição, 1:, nave...|\n",
      "|ARTICLE_0753|USER_1317|            0.0|             0.0|[como, usar, o, g...| [\"lição, 1:, nave...|\n",
      "|ARTICLE_0753|USER_1235|            0.0|             0.0|[como, usar, o, g...| [\"lição, 1:, nave...|\n",
      "|ARTICLE_0753|USER_1213|            0.0|             0.0|[como, usar, o, g...| [\"lição, 1:, nave...|\n",
      "|ARTICLE_0753|USER_1210|            0.0|             0.0|[como, usar, o, g...| [\"lição, 1:, nave...|\n",
      "|ARTICLE_0753|USER_1210|            0.0|             0.0|[como, usar, o, g...| [\"lição, 1:, nave...|\n",
      "|ARTICLE_0753|USER_1171|            1.0|             0.0|[como, usar, o, g...| [\"lição, 1:, nave...|\n",
      "|ARTICLE_0753|USER_1145|            0.0|             0.0|[como, usar, o, g...| [\"lição, 1:, nave...|\n",
      "|ARTICLE_0753|USER_1093|            0.0|             0.0|[como, usar, o, g...| [\"lição, 1:, nave...|\n",
      "|ARTICLE_0753|USER_1031|            0.0|             0.0|[como, usar, o, g...| [\"lição, 1:, nave...|\n",
      "|ARTICLE_0753|USER_1031|            0.0|             0.0|[como, usar, o, g...| [\"lição, 1:, nave...|\n",
      "|ARTICLE_0753|USER_0941|            0.0|             0.0|[como, usar, o, g...| [\"lição, 1:, nave...|\n",
      "|ARTICLE_0753|USER_0923|            0.0|             0.0|[como, usar, o, g...| [\"lição, 1:, nave...|\n",
      "|ARTICLE_0753|USER_0840|            0.0|             0.0|[como, usar, o, g...| [\"lição, 1:, nave...|\n",
      "|ARTICLE_0753|USER_0821|            1.0|             0.0|[como, usar, o, g...| [\"lição, 1:, nave...|\n",
      "|ARTICLE_0753|USER_0814|            1.0|             0.0|[como, usar, o, g...| [\"lição, 1:, nave...|\n",
      "|ARTICLE_0753|USER_0799|            0.0|             0.0|[como, usar, o, g...| [\"lição, 1:, nave...|\n",
      "|ARTICLE_0753|USER_0799|            0.0|             0.0|[como, usar, o, g...| [\"lição, 1:, nave...|\n",
      "+------------+---------+---------------+----------------+--------------------+---------------------+\n",
      "only showing top 20 rows\n",
      "\n"
     ]
    }
   ],
   "source": [
    "saved_df = spark.read.parquet(output_path)\n",
    "saved_df.show()"
   ]
  },
  {
   "cell_type": "code",
   "execution_count": null,
   "id": "083e9ddb-aa1e-4480-a7b6-b7f14132ed51",
   "metadata": {},
   "outputs": [],
   "source": []
  }
 ],
 "metadata": {
  "kernelspec": {
   "display_name": "Python 3 (ipykernel)",
   "language": "python",
   "name": "python3"
  },
  "language_info": {
   "codemirror_mode": {
    "name": "ipython",
    "version": 3
   },
   "file_extension": ".py",
   "mimetype": "text/x-python",
   "name": "python",
   "nbconvert_exporter": "python",
   "pygments_lexer": "ipython3",
   "version": "3.11.6"
  }
 },
 "nbformat": 4,
 "nbformat_minor": 5
}
