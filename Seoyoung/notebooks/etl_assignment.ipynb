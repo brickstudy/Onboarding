{
 "cells": [
  {
   "cell_type": "markdown",
   "id": "6eded7a6-458f-434e-b719-4e01fd23bab8",
   "metadata": {},
   "source": [
    "## 1. aws connect"
   ]
  },
  {
   "cell_type": "code",
   "execution_count": 2,
   "id": "46f0f14a-0b06-41bc-ab57-3d4f26163848",
   "metadata": {},
   "outputs": [
    {
     "name": "stdout",
     "output_type": "stream",
     "text": [
      "aws-cli/1.33.4 Python/3.11.6 Linux/6.5.11-linuxkit botocore/1.34.122\n"
     ]
    }
   ],
   "source": [
    "!aws --version"
   ]
  },
  {
   "cell_type": "code",
   "execution_count": 3,
   "id": "3cd98213-7c2c-4e1f-979f-6288e84e9a17",
   "metadata": {},
   "outputs": [
    {
     "name": "stdout",
     "output_type": "stream",
     "text": [
      "2024-01-25 15:01:41 aws-glue-assets-280432648345-ap-northeast-2\n",
      "2024-01-08 06:11:06 aws-lambda-dummy-prod-serverlessdeploymentbucket-uu3bbgjbjfza\n",
      "2024-01-12 09:39:11 book-data-pipeline-prod-serverlessdeploymentbucket-bjra5omsi63o\n",
      "2024-01-06 09:08:06 docker-selenium-lambda-pr-serverlessdeploymentbuck-wbhslhm4ylrn\n",
      "2024-01-08 05:08:38 serverless.metrics-firehose-backup-wnrela9vnmmexwlkffxd44\n"
     ]
    }
   ],
   "source": [
    "!aws s3 ls"
   ]
  },
  {
   "cell_type": "markdown",
   "id": "d9823bb5-6fa3-44cf-9cf8-f1c496bfa89d",
   "metadata": {},
   "source": [
    "### issue(solved)\n",
    "- spark, aws 연결에 필요한 설정 및 디펜던시를 갖춰주었으나 java classpath에서 구성해준 파일들을 제대로 찾아오지 못함\n",
    "- 컨테이너 내부에서 aws cli 사용했을때에는 config가 제대로 설정되어 연결되는데, spark session에서 aws연결 안됨 \n",
    "- 그래서 s3에서 데이터를 읽어오지 못하고 classnotfound 오류\n",
    "\n",
    "\n",
    "#### 해결 방법\n",
    "\n",
    "spark session 생성 시 \n",
    "- 1. master 메소드에 local넣어줌\n",
    "      - 현재 단일 컨테이너 local mode. 클러스터 매니저 또한 local이라고 명시를 해줘야 정확하게 context를 읽어올 수 있다.\n",
    "- 2. spark.jars.packages -> spark.jars\n",
    "      - conf 파일에 필요한 패키지 명사해줘서 갖고오는 \n",
    "      - spark.jars.packages 설정은 Maven 패키지를 로드하는 데 사용됨, 로컬 JAR 파일을 로드하려면 spark.jars 설정으로 진행 필요\n"
   ]
  },
  {
   "cell_type": "code",
   "execution_count": 3,
   "id": "688eb591-dbe0-46b0-8b58-58f7f7ac8285",
   "metadata": {},
   "outputs": [
    {
     "data": {
      "text/html": [
       "\n",
       "            <div>\n",
       "                <p><b>SparkSession - in-memory</b></p>\n",
       "                \n",
       "        <div>\n",
       "            <p><b>SparkContext</b></p>\n",
       "\n",
       "            <p><a href=\"http://30983a76dcfd:4041\">Spark UI</a></p>\n",
       "\n",
       "            <dl>\n",
       "              <dt>Version</dt>\n",
       "                <dd><code>v3.5.0</code></dd>\n",
       "              <dt>Master</dt>\n",
       "                <dd><code>local[*]</code></dd>\n",
       "              <dt>AppName</dt>\n",
       "                <dd><code>spark-local-environment-test</code></dd>\n",
       "            </dl>\n",
       "        </div>\n",
       "        \n",
       "            </div>\n",
       "        "
      ],
      "text/plain": [
       "<pyspark.sql.session.SparkSession at 0x7f1060a415d0>"
      ]
     },
     "execution_count": 3,
     "metadata": {},
     "output_type": "execute_result"
    }
   ],
   "source": [
    "from pyspark.sql import SparkSession\n",
    "\n",
    "spark = SparkSession.builder\\\n",
    ".appName(\"spark-local-environment-test\")\\\n",
    ".master(\"local[*]\") \\\n",
    ".config('spark.hadoop.fs.s3a.aws.credentials.provider', 'org.apache.hadoop.fs.s3a.SimpleAWSCredentialsProvider')\\\n",
    ".config('spark.jars', '$SPARK_HOME/jars/hadoop-aws-3.2.0.jar')\\\n",
    ".config('spark.jars', '$SPARK_HOME/jars/aws-java-sdk-bundle-1.11.375.jar')\\\n",
    ".getOrCreate()\n",
    "\n",
    "spark"
   ]
  },
  {
   "cell_type": "code",
   "execution_count": 4,
   "id": "240306be-431e-401d-8add-0b25c9217ad7",
   "metadata": {},
   "outputs": [
    {
     "name": "stdout",
     "output_type": "stream",
     "text": [
      "+--------------------------+\n",
      "|                      Item|\n",
      "+--------------------------+\n",
      "|      {{'Fishel, Cathar...|\n",
      "|   {{'S.N. 고엔카'}, {1...|\n",
      "|   {{'이순신'}, {158128...|\n",
      "|   {{'김현구'}, {223179...|\n",
      "|      {{'Urry'}, {22208...|\n",
      "| {{'토피 편집부'}, {213...|\n",
      "|{{'파멜라 크리베'}, {10...|\n",
      "|   {{'이득우'}, {214994...|\n",
      "|   {{'최광희'}, {212662...|\n",
      "|      {{''}, {20541571}...|\n",
      "|   {{'김아영'}, {145331...|\n",
      "|   {{'김은영'}, {136171...|\n",
      "|{{'존 야블론스키'}, {16...|\n",
      "|   {{'장조원'}, {206334...|\n",
      "|      {{''}, {16624530}...|\n",
      "|   {{'손원호'}, {208102...|\n",
      "|   {{'김연주'}, {220596...|\n",
      "|   {{'변희재'}, {215112...|\n",
      "|   {{'유대영'}, {213759...|\n",
      "|{{'배창호,조오영'}, {22...|\n",
      "+--------------------------+\n",
      "only showing top 20 rows\n",
      "\n"
     ]
    }
   ],
   "source": [
    "import os\n",
    "\n",
    "s3_uri = \"s3a://book-data-pipeline-prod-serverlessdeploymentbucket-bjra5omsi63o/AWSDynamoDB/01707815361219-bbc1fc5b\"\n",
    "df = spark.read.format('json').load(os.path.join(s3_uri, 'data/*.json.gz'))\n",
    "df.show()"
   ]
  },
  {
   "cell_type": "markdown",
   "id": "fa140f5c-3533-4c4d-94ea-71526d192c98",
   "metadata": {},
   "source": [
    "# 2. common task "
   ]
  },
  {
   "cell_type": "code",
   "execution_count": 6,
   "id": "01168559-e2dc-4d87-afc4-bfd889585bc5",
   "metadata": {
    "scrolled": true
   },
   "outputs": [
    {
     "name": "stdout",
     "output_type": "stream",
     "text": [
      "root\n",
      " |-- REG_DATE: timestamp (nullable = true)\n",
      " |-- SEX_ID: string (nullable = true)\n",
      " |-- AGE: integer (nullable = true)\n",
      " |-- WITHDRAW_DATE: string (nullable = true)\n",
      " |-- PREF_NAME: string (nullable = true)\n",
      " |-- USER_ID_hash: string (nullable = true)\n",
      "\n",
      "+-------------------+------+---+-------------------+---------+--------------------+\n",
      "|           REG_DATE|SEX_ID|AGE|      WITHDRAW_DATE|PREF_NAME|        USER_ID_hash|\n",
      "+-------------------+------+---+-------------------+---------+--------------------+\n",
      "|2012-03-28 14:14:18|     f| 25|                 NA|     NULL|d9dca3cb44bab12ba...|\n",
      "|2011-05-18 00:41:48|     f| 34|                 NA|   東京都|560574a339f1b25e5...|\n",
      "|2011-06-13 16:36:58|     m| 41|                 NA|   愛知県|e66ae91b978b3229f...|\n",
      "|2012-02-08 12:56:15|     m| 25|                 NA|     NULL|43fc18f32eafb0571...|\n",
      "|2011-05-22 23:43:56|     m| 62|                 NA| 神奈川県|dc6df8aa860f8db0d...|\n",
      "|2011-05-27 16:17:19|     f| 50|                 NA|   広島県|f430e8302c1fd0915...|\n",
      "|2011-08-24 23:30:24|     m| 44|                 NA|   埼玉県|f3722c32325314403...|\n",
      "|2010-11-16 11:56:52|     f| 40|                 NA|   愛知県|566c410a12848492c...|\n",
      "|2012-01-01 00:56:38|     m| 47|                 NA|   奈良県|409d495d62c15f6fd...|\n",
      "|2011-12-27 15:30:24|     m| 31|                 NA|     NULL|72f88db98f71be3f5...|\n",
      "|2011-04-18 20:03:55|     f| 41|                 NA|   石川県|1001a440695a0063f...|\n",
      "|2011-05-22 01:43:53|     f| 31|                 NA| 神奈川県|d75c1a44b151d66ea...|\n",
      "|2010-11-16 12:01:13|     m| 48|                 NA|   大阪府|70479ee8862d20293...|\n",
      "|2011-09-13 09:58:35|     m| 32|                 NA| 神奈川県|a96643bfe2d011d30...|\n",
      "|2010-12-14 10:35:58|     f| 36|                 NA|   熊本県|f972d228e410ec346...|\n",
      "|2010-12-09 19:06:59|     m| 54|                 NA|   福岡県|28049e0d4cc904ac3...|\n",
      "|2011-02-28 16:11:53|     m| 34|2012-01-26 11:54:33|   北海道|617b343271094ed99...|\n",
      "|2012-01-09 14:44:30|     f| 39|                 NA|   東京都|eb2e1864a5db99653...|\n",
      "|2011-03-08 08:58:56|     m| 25|                 NA|   広島県|80854ed829ef3f4e1...|\n",
      "|2011-02-26 16:46:45|     m| 44|                 NA|   東京都|73011216a9731f575...|\n",
      "+-------------------+------+---+-------------------+---------+--------------------+\n",
      "only showing top 20 rows\n",
      "\n"
     ]
    },
    {
     "data": {
      "text/plain": [
       "22873"
      ]
     },
     "execution_count": 6,
     "metadata": {},
     "output_type": "execute_result"
    }
   ],
   "source": [
    "user_list_df = spark.read.option(\"header\", \"true\").option(\"inferSchema\", \"true\").csv('./data/user_list.csv')\n",
    "user_list_df.printSchema()\n",
    "user_list_df.show()\n",
    "user_list_df.count()"
   ]
  },
  {
   "cell_type": "code",
   "execution_count": 7,
   "id": "ee3f1d74-a730-4623-96d3-be24a7d8c061",
   "metadata": {
    "scrolled": true
   },
   "outputs": [
    {
     "name": "stdout",
     "output_type": "stream",
     "text": [
      "root\n",
      " |-- ITEM_COUNT: integer (nullable = true)\n",
      " |-- I_DATE: timestamp (nullable = true)\n",
      " |-- SMALL_AREA_NAME: string (nullable = true)\n",
      " |-- PURCHASEID_hash: string (nullable = true)\n",
      " |-- USER_ID_hash: string (nullable = true)\n",
      " |-- COUPON_ID_hash: string (nullable = true)\n",
      "\n",
      "+----------+-------------------+----------------------------+--------------------+--------------------+--------------------+\n",
      "|ITEM_COUNT|             I_DATE|             SMALL_AREA_NAME|     PURCHASEID_hash|        USER_ID_hash|      COUPON_ID_hash|\n",
      "+----------+-------------------+----------------------------+--------------------+--------------------+--------------------+\n",
      "|         1|2012-03-28 15:06:06|                        兵庫|c820a8882374a4e47...|d9dca3cb44bab12ba...|34c48f84026e08355...|\n",
      "|         1|2011-07-04 23:52:54|      銀座・新橋・東京・上野|1b4eb2435421ede98...|560574a339f1b25e5...|767673b7a777854a9...|\n",
      "|         1|2011-07-16 00:52:49|          恵比寿・目黒・品川|36b5f9ba46c44b655...|560574a339f1b25e5...|4f3b5b91d98311925...|\n",
      "|         1|2011-07-16 00:54:53|          恵比寿・目黒・品川|2f30f46937cc90047...|560574a339f1b25e5...|4f3b5b91d98311925...|\n",
      "|         1|2011-07-16 00:55:52|          恵比寿・目黒・品川|4d000c64a55ac573d...|560574a339f1b25e5...|4f3b5b91d98311925...|\n",
      "|         1|2011-07-16 00:57:09|          恵比寿・目黒・品川|d8b030c8a4a2c1051...|560574a339f1b25e5...|4f3b5b91d98311925...|\n",
      "|         2|2011-07-16 00:58:29|          恵比寿・目黒・品川|2c98138766edf5d5b...|560574a339f1b25e5...|4f3b5b91d98311925...|\n",
      "|         2|2011-09-07 00:04:47|        渋谷・青山・自由が丘|5a45d62c72a4cc415...|560574a339f1b25e5...|259a22533cab38146...|\n",
      "|         1|2011-10-19 22:21:50|        渋谷・青山・自由が丘|592bb67c0553648d6...|560574a339f1b25e5...|f4a6f861a266799b0...|\n",
      "|         1|2011-12-01 16:53:45|          恵比寿・目黒・品川|509883c481716b1f3...|560574a339f1b25e5...|4257a8a169b40bbbc...|\n",
      "|         2|2012-01-15 20:53:59|        渋谷・青山・自由が丘|231e87e928a48403a...|560574a339f1b25e5...|3e7d148d632f7ee12...|\n",
      "|         2|2012-03-13 00:29:18|      銀座・新橋・東京・上野|6f0b1da67d70392cb...|560574a339f1b25e5...|34ea3cc1cf4ec57f3...|\n",
      "|         1|2012-03-31 01:31:08|        渋谷・青山・自由が丘|c80173987b3515b63...|560574a339f1b25e5...|129a696dac8e7eb09...|\n",
      "|         1|2012-04-05 09:21:21|新宿・高田馬場・中野・吉祥寺|d3ce3a8259e675597...|560574a339f1b25e5...|716abc8dcbfee15cf...|\n",
      "|         1|2012-05-04 10:30:23|          恵比寿・目黒・品川|ad5fcf63d2793315c...|560574a339f1b25e5...|cea20b04d7bb26b52...|\n",
      "|         1|2012-05-17 20:56:09|新宿・高田馬場・中野・吉祥寺|b3606c6ad14c7771a...|560574a339f1b25e5...|d0590f9b80fd6aa59...|\n",
      "|         1|2012-06-12 22:50:48|                        群馬|d5f196b588dd5dc4b...|560574a339f1b25e5...|4b4a03629482c17c3...|\n",
      "|         1|2011-07-22 08:51:34|                        愛知|fe61ec0d6cc9b0869...|e66ae91b978b3229f...|bf1c42f4f879f879e...|\n",
      "|         1|2012-02-08 13:04:05|                        山形|d88f6ab0f9b8d737c...|43fc18f32eafb0571...|e1d91d56d2a86d4cb...|\n",
      "|         1|2012-04-03 15:22:55|新宿・高田馬場・中野・吉祥寺|1cef71947aa1f80e7...|43fc18f32eafb0571...|89b72c8e0e8272e05...|\n",
      "+----------+-------------------+----------------------------+--------------------+--------------------+--------------------+\n",
      "only showing top 20 rows\n",
      "\n"
     ]
    },
    {
     "data": {
      "text/plain": [
       "168996"
      ]
     },
     "execution_count": 7,
     "metadata": {},
     "output_type": "execute_result"
    }
   ],
   "source": [
    "coupon_detail_df = spark.read.option(\"header\", \"true\").option(\"inferSchema\", \"true\").csv('./data/coupon_detail_train.csv')\n",
    "coupon_detail_df.printSchema()\n",
    "coupon_detail_df.show()\n",
    "coupon_detail_df.count()"
   ]
  },
  {
   "cell_type": "markdown",
   "id": "abbc8469-6b0c-4289-ada1-0e8067d2f9ce",
   "metadata": {},
   "source": [
    "#### 1. join\n",
    "user_list, coupon_detail_train 데이터를 \"USER_ID_hash\" 기준으로 user_list로 inner join"
   ]
  },
  {
   "cell_type": "code",
   "execution_count": 11,
   "id": "1e332c97-9124-484c-9bdb-c3c99cfc5fd4",
   "metadata": {
    "scrolled": true
   },
   "outputs": [
    {
     "name": "stdout",
     "output_type": "stream",
     "text": [
      "+--------------------+-------------------+------+---+-------------+---------+----------+-------------------+----------------------------+--------------------+--------------------+\n",
      "|        USER_ID_hash|           REG_DATE|SEX_ID|AGE|WITHDRAW_DATE|PREF_NAME|ITEM_COUNT|             I_DATE|             SMALL_AREA_NAME|     PURCHASEID_hash|      COUPON_ID_hash|\n",
      "+--------------------+-------------------+------+---+-------------+---------+----------+-------------------+----------------------------+--------------------+--------------------+\n",
      "|d9dca3cb44bab12ba...|2012-03-28 14:14:18|     f| 25|           NA|     NULL|         1|2012-03-28 15:06:06|                        兵庫|c820a8882374a4e47...|34c48f84026e08355...|\n",
      "|560574a339f1b25e5...|2011-05-18 00:41:48|     f| 34|           NA|   東京都|         1|2011-07-04 23:52:54|      銀座・新橋・東京・上野|1b4eb2435421ede98...|767673b7a777854a9...|\n",
      "|560574a339f1b25e5...|2011-05-18 00:41:48|     f| 34|           NA|   東京都|         1|2011-07-16 00:52:49|          恵比寿・目黒・品川|36b5f9ba46c44b655...|4f3b5b91d98311925...|\n",
      "|560574a339f1b25e5...|2011-05-18 00:41:48|     f| 34|           NA|   東京都|         1|2011-07-16 00:54:53|          恵比寿・目黒・品川|2f30f46937cc90047...|4f3b5b91d98311925...|\n",
      "|560574a339f1b25e5...|2011-05-18 00:41:48|     f| 34|           NA|   東京都|         1|2011-07-16 00:55:52|          恵比寿・目黒・品川|4d000c64a55ac573d...|4f3b5b91d98311925...|\n",
      "|560574a339f1b25e5...|2011-05-18 00:41:48|     f| 34|           NA|   東京都|         1|2011-07-16 00:57:09|          恵比寿・目黒・品川|d8b030c8a4a2c1051...|4f3b5b91d98311925...|\n",
      "|560574a339f1b25e5...|2011-05-18 00:41:48|     f| 34|           NA|   東京都|         2|2011-07-16 00:58:29|          恵比寿・目黒・品川|2c98138766edf5d5b...|4f3b5b91d98311925...|\n",
      "|560574a339f1b25e5...|2011-05-18 00:41:48|     f| 34|           NA|   東京都|         2|2011-09-07 00:04:47|        渋谷・青山・自由が丘|5a45d62c72a4cc415...|259a22533cab38146...|\n",
      "|560574a339f1b25e5...|2011-05-18 00:41:48|     f| 34|           NA|   東京都|         1|2011-10-19 22:21:50|        渋谷・青山・自由が丘|592bb67c0553648d6...|f4a6f861a266799b0...|\n",
      "|560574a339f1b25e5...|2011-05-18 00:41:48|     f| 34|           NA|   東京都|         1|2011-12-01 16:53:45|          恵比寿・目黒・品川|509883c481716b1f3...|4257a8a169b40bbbc...|\n",
      "|560574a339f1b25e5...|2011-05-18 00:41:48|     f| 34|           NA|   東京都|         2|2012-01-15 20:53:59|        渋谷・青山・自由が丘|231e87e928a48403a...|3e7d148d632f7ee12...|\n",
      "|560574a339f1b25e5...|2011-05-18 00:41:48|     f| 34|           NA|   東京都|         2|2012-03-13 00:29:18|      銀座・新橋・東京・上野|6f0b1da67d70392cb...|34ea3cc1cf4ec57f3...|\n",
      "|560574a339f1b25e5...|2011-05-18 00:41:48|     f| 34|           NA|   東京都|         1|2012-03-31 01:31:08|        渋谷・青山・自由が丘|c80173987b3515b63...|129a696dac8e7eb09...|\n",
      "|560574a339f1b25e5...|2011-05-18 00:41:48|     f| 34|           NA|   東京都|         1|2012-04-05 09:21:21|新宿・高田馬場・中野・吉祥寺|d3ce3a8259e675597...|716abc8dcbfee15cf...|\n",
      "|560574a339f1b25e5...|2011-05-18 00:41:48|     f| 34|           NA|   東京都|         1|2012-05-04 10:30:23|          恵比寿・目黒・品川|ad5fcf63d2793315c...|cea20b04d7bb26b52...|\n",
      "|560574a339f1b25e5...|2011-05-18 00:41:48|     f| 34|           NA|   東京都|         1|2012-05-17 20:56:09|新宿・高田馬場・中野・吉祥寺|b3606c6ad14c7771a...|d0590f9b80fd6aa59...|\n",
      "|560574a339f1b25e5...|2011-05-18 00:41:48|     f| 34|           NA|   東京都|         1|2012-06-12 22:50:48|                        群馬|d5f196b588dd5dc4b...|4b4a03629482c17c3...|\n",
      "|e66ae91b978b3229f...|2011-06-13 16:36:58|     m| 41|           NA|   愛知県|         1|2011-07-22 08:51:34|                        愛知|fe61ec0d6cc9b0869...|bf1c42f4f879f879e...|\n",
      "|43fc18f32eafb0571...|2012-02-08 12:56:15|     m| 25|           NA|     NULL|         1|2012-02-08 13:04:05|                        山形|d88f6ab0f9b8d737c...|e1d91d56d2a86d4cb...|\n",
      "|43fc18f32eafb0571...|2012-02-08 12:56:15|     m| 25|           NA|     NULL|         1|2012-04-03 15:22:55|新宿・高田馬場・中野・吉祥寺|1cef71947aa1f80e7...|89b72c8e0e8272e05...|\n",
      "+--------------------+-------------------+------+---+-------------+---------+----------+-------------------+----------------------------+--------------------+--------------------+\n",
      "only showing top 20 rows\n",
      "\n"
     ]
    }
   ],
   "source": [
    "joined_df = user_list_df.join(coupon_detail_df, on='USER_ID_hash')\n",
    "joined_df.show()"
   ]
  },
  {
   "cell_type": "markdown",
   "id": "6c92136c-f796-45a4-ac73-9490722b7a6e",
   "metadata": {},
   "source": [
    "#### hack\n",
    "spark dataframe 출력 아주 가독성 떨어짐, pandas dataframe처럼 출력하는법"
   ]
  },
  {
   "cell_type": "code",
   "execution_count": 12,
   "id": "50c1dc9c-e8da-48bd-984b-2d0f08556fe2",
   "metadata": {
    "scrolled": true
   },
   "outputs": [
    {
     "data": {
      "text/html": [
       "<table border='1'>\n",
       "<tr><th>USER_ID_hash</th><th>REG_DATE</th><th>SEX_ID</th><th>AGE</th><th>WITHDRAW_DATE</th><th>PREF_NAME</th><th>ITEM_COUNT</th><th>I_DATE</th><th>SMALL_AREA_NAME</th><th>PURCHASEID_hash</th><th>COUPON_ID_hash</th></tr>\n",
       "<tr><td>d9dca3cb44bab12ba...</td><td>2012-03-28 14:14:18</td><td>f</td><td>25</td><td>NA</td><td>NULL</td><td>1</td><td>2012-03-28 15:06:06</td><td>兵庫</td><td>c820a8882374a4e47...</td><td>34c48f84026e08355...</td></tr>\n",
       "<tr><td>560574a339f1b25e5...</td><td>2011-05-18 00:41:48</td><td>f</td><td>34</td><td>NA</td><td>東京都</td><td>1</td><td>2011-07-04 23:52:54</td><td>銀座・新橋・東京・上野</td><td>1b4eb2435421ede98...</td><td>767673b7a777854a9...</td></tr>\n",
       "<tr><td>560574a339f1b25e5...</td><td>2011-05-18 00:41:48</td><td>f</td><td>34</td><td>NA</td><td>東京都</td><td>1</td><td>2011-07-16 00:52:49</td><td>恵比寿・目黒・品川</td><td>36b5f9ba46c44b655...</td><td>4f3b5b91d98311925...</td></tr>\n",
       "<tr><td>560574a339f1b25e5...</td><td>2011-05-18 00:41:48</td><td>f</td><td>34</td><td>NA</td><td>東京都</td><td>1</td><td>2011-07-16 00:54:53</td><td>恵比寿・目黒・品川</td><td>2f30f46937cc90047...</td><td>4f3b5b91d98311925...</td></tr>\n",
       "<tr><td>560574a339f1b25e5...</td><td>2011-05-18 00:41:48</td><td>f</td><td>34</td><td>NA</td><td>東京都</td><td>1</td><td>2011-07-16 00:55:52</td><td>恵比寿・目黒・品川</td><td>4d000c64a55ac573d...</td><td>4f3b5b91d98311925...</td></tr>\n",
       "<tr><td>560574a339f1b25e5...</td><td>2011-05-18 00:41:48</td><td>f</td><td>34</td><td>NA</td><td>東京都</td><td>1</td><td>2011-07-16 00:57:09</td><td>恵比寿・目黒・品川</td><td>d8b030c8a4a2c1051...</td><td>4f3b5b91d98311925...</td></tr>\n",
       "<tr><td>560574a339f1b25e5...</td><td>2011-05-18 00:41:48</td><td>f</td><td>34</td><td>NA</td><td>東京都</td><td>2</td><td>2011-07-16 00:58:29</td><td>恵比寿・目黒・品川</td><td>2c98138766edf5d5b...</td><td>4f3b5b91d98311925...</td></tr>\n",
       "<tr><td>560574a339f1b25e5...</td><td>2011-05-18 00:41:48</td><td>f</td><td>34</td><td>NA</td><td>東京都</td><td>2</td><td>2011-09-07 00:04:47</td><td>渋谷・青山・自由が丘</td><td>5a45d62c72a4cc415...</td><td>259a22533cab38146...</td></tr>\n",
       "<tr><td>560574a339f1b25e5...</td><td>2011-05-18 00:41:48</td><td>f</td><td>34</td><td>NA</td><td>東京都</td><td>1</td><td>2011-10-19 22:21:50</td><td>渋谷・青山・自由が丘</td><td>592bb67c0553648d6...</td><td>f4a6f861a266799b0...</td></tr>\n",
       "<tr><td>560574a339f1b25e5...</td><td>2011-05-18 00:41:48</td><td>f</td><td>34</td><td>NA</td><td>東京都</td><td>1</td><td>2011-12-01 16:53:45</td><td>恵比寿・目黒・品川</td><td>509883c481716b1f3...</td><td>4257a8a169b40bbbc...</td></tr>\n",
       "<tr><td>560574a339f1b25e5...</td><td>2011-05-18 00:41:48</td><td>f</td><td>34</td><td>NA</td><td>東京都</td><td>2</td><td>2012-01-15 20:53:59</td><td>渋谷・青山・自由が丘</td><td>231e87e928a48403a...</td><td>3e7d148d632f7ee12...</td></tr>\n",
       "<tr><td>560574a339f1b25e5...</td><td>2011-05-18 00:41:48</td><td>f</td><td>34</td><td>NA</td><td>東京都</td><td>2</td><td>2012-03-13 00:29:18</td><td>銀座・新橋・東京・上野</td><td>6f0b1da67d70392cb...</td><td>34ea3cc1cf4ec57f3...</td></tr>\n",
       "<tr><td>560574a339f1b25e5...</td><td>2011-05-18 00:41:48</td><td>f</td><td>34</td><td>NA</td><td>東京都</td><td>1</td><td>2012-03-31 01:31:08</td><td>渋谷・青山・自由が丘</td><td>c80173987b3515b63...</td><td>129a696dac8e7eb09...</td></tr>\n",
       "<tr><td>560574a339f1b25e5...</td><td>2011-05-18 00:41:48</td><td>f</td><td>34</td><td>NA</td><td>東京都</td><td>1</td><td>2012-04-05 09:21:21</td><td>新宿・高田馬場・中野・吉祥寺</td><td>d3ce3a8259e675597...</td><td>716abc8dcbfee15cf...</td></tr>\n",
       "<tr><td>560574a339f1b25e5...</td><td>2011-05-18 00:41:48</td><td>f</td><td>34</td><td>NA</td><td>東京都</td><td>1</td><td>2012-05-04 10:30:23</td><td>恵比寿・目黒・品川</td><td>ad5fcf63d2793315c...</td><td>cea20b04d7bb26b52...</td></tr>\n",
       "<tr><td>560574a339f1b25e5...</td><td>2011-05-18 00:41:48</td><td>f</td><td>34</td><td>NA</td><td>東京都</td><td>1</td><td>2012-05-17 20:56:09</td><td>新宿・高田馬場・中野・吉祥寺</td><td>b3606c6ad14c7771a...</td><td>d0590f9b80fd6aa59...</td></tr>\n",
       "<tr><td>560574a339f1b25e5...</td><td>2011-05-18 00:41:48</td><td>f</td><td>34</td><td>NA</td><td>東京都</td><td>1</td><td>2012-06-12 22:50:48</td><td>群馬</td><td>d5f196b588dd5dc4b...</td><td>4b4a03629482c17c3...</td></tr>\n",
       "<tr><td>e66ae91b978b3229f...</td><td>2011-06-13 16:36:58</td><td>m</td><td>41</td><td>NA</td><td>愛知県</td><td>1</td><td>2011-07-22 08:51:34</td><td>愛知</td><td>fe61ec0d6cc9b0869...</td><td>bf1c42f4f879f879e...</td></tr>\n",
       "<tr><td>43fc18f32eafb0571...</td><td>2012-02-08 12:56:15</td><td>m</td><td>25</td><td>NA</td><td>NULL</td><td>1</td><td>2012-02-08 13:04:05</td><td>山形</td><td>d88f6ab0f9b8d737c...</td><td>e1d91d56d2a86d4cb...</td></tr>\n",
       "<tr><td>43fc18f32eafb0571...</td><td>2012-02-08 12:56:15</td><td>m</td><td>25</td><td>NA</td><td>NULL</td><td>1</td><td>2012-04-03 15:22:55</td><td>新宿・高田馬場・中野・吉祥寺</td><td>1cef71947aa1f80e7...</td><td>89b72c8e0e8272e05...</td></tr>\n",
       "</table>\n",
       "only showing top 20 rows\n"
      ],
      "text/plain": [
       "+--------------------+-------------------+------+---+-------------+---------+----------+-------------------+----------------------------+--------------------+--------------------+\n",
       "|        USER_ID_hash|           REG_DATE|SEX_ID|AGE|WITHDRAW_DATE|PREF_NAME|ITEM_COUNT|             I_DATE|             SMALL_AREA_NAME|     PURCHASEID_hash|      COUPON_ID_hash|\n",
       "+--------------------+-------------------+------+---+-------------+---------+----------+-------------------+----------------------------+--------------------+--------------------+\n",
       "|d9dca3cb44bab12ba...|2012-03-28 14:14:18|     f| 25|           NA|     NULL|         1|2012-03-28 15:06:06|                        兵庫|c820a8882374a4e47...|34c48f84026e08355...|\n",
       "|560574a339f1b25e5...|2011-05-18 00:41:48|     f| 34|           NA|   東京都|         1|2011-07-04 23:52:54|      銀座・新橋・東京・上野|1b4eb2435421ede98...|767673b7a777854a9...|\n",
       "|560574a339f1b25e5...|2011-05-18 00:41:48|     f| 34|           NA|   東京都|         1|2011-07-16 00:52:49|          恵比寿・目黒・品川|36b5f9ba46c44b655...|4f3b5b91d98311925...|\n",
       "|560574a339f1b25e5...|2011-05-18 00:41:48|     f| 34|           NA|   東京都|         1|2011-07-16 00:54:53|          恵比寿・目黒・品川|2f30f46937cc90047...|4f3b5b91d98311925...|\n",
       "|560574a339f1b25e5...|2011-05-18 00:41:48|     f| 34|           NA|   東京都|         1|2011-07-16 00:55:52|          恵比寿・目黒・品川|4d000c64a55ac573d...|4f3b5b91d98311925...|\n",
       "|560574a339f1b25e5...|2011-05-18 00:41:48|     f| 34|           NA|   東京都|         1|2011-07-16 00:57:09|          恵比寿・目黒・品川|d8b030c8a4a2c1051...|4f3b5b91d98311925...|\n",
       "|560574a339f1b25e5...|2011-05-18 00:41:48|     f| 34|           NA|   東京都|         2|2011-07-16 00:58:29|          恵比寿・目黒・品川|2c98138766edf5d5b...|4f3b5b91d98311925...|\n",
       "|560574a339f1b25e5...|2011-05-18 00:41:48|     f| 34|           NA|   東京都|         2|2011-09-07 00:04:47|        渋谷・青山・自由が丘|5a45d62c72a4cc415...|259a22533cab38146...|\n",
       "|560574a339f1b25e5...|2011-05-18 00:41:48|     f| 34|           NA|   東京都|         1|2011-10-19 22:21:50|        渋谷・青山・自由が丘|592bb67c0553648d6...|f4a6f861a266799b0...|\n",
       "|560574a339f1b25e5...|2011-05-18 00:41:48|     f| 34|           NA|   東京都|         1|2011-12-01 16:53:45|          恵比寿・目黒・品川|509883c481716b1f3...|4257a8a169b40bbbc...|\n",
       "|560574a339f1b25e5...|2011-05-18 00:41:48|     f| 34|           NA|   東京都|         2|2012-01-15 20:53:59|        渋谷・青山・自由が丘|231e87e928a48403a...|3e7d148d632f7ee12...|\n",
       "|560574a339f1b25e5...|2011-05-18 00:41:48|     f| 34|           NA|   東京都|         2|2012-03-13 00:29:18|      銀座・新橋・東京・上野|6f0b1da67d70392cb...|34ea3cc1cf4ec57f3...|\n",
       "|560574a339f1b25e5...|2011-05-18 00:41:48|     f| 34|           NA|   東京都|         1|2012-03-31 01:31:08|        渋谷・青山・自由が丘|c80173987b3515b63...|129a696dac8e7eb09...|\n",
       "|560574a339f1b25e5...|2011-05-18 00:41:48|     f| 34|           NA|   東京都|         1|2012-04-05 09:21:21|新宿・高田馬場・中野・吉祥寺|d3ce3a8259e675597...|716abc8dcbfee15cf...|\n",
       "|560574a339f1b25e5...|2011-05-18 00:41:48|     f| 34|           NA|   東京都|         1|2012-05-04 10:30:23|          恵比寿・目黒・品川|ad5fcf63d2793315c...|cea20b04d7bb26b52...|\n",
       "|560574a339f1b25e5...|2011-05-18 00:41:48|     f| 34|           NA|   東京都|         1|2012-05-17 20:56:09|新宿・高田馬場・中野・吉祥寺|b3606c6ad14c7771a...|d0590f9b80fd6aa59...|\n",
       "|560574a339f1b25e5...|2011-05-18 00:41:48|     f| 34|           NA|   東京都|         1|2012-06-12 22:50:48|                        群馬|d5f196b588dd5dc4b...|4b4a03629482c17c3...|\n",
       "|e66ae91b978b3229f...|2011-06-13 16:36:58|     m| 41|           NA|   愛知県|         1|2011-07-22 08:51:34|                        愛知|fe61ec0d6cc9b0869...|bf1c42f4f879f879e...|\n",
       "|43fc18f32eafb0571...|2012-02-08 12:56:15|     m| 25|           NA|     NULL|         1|2012-02-08 13:04:05|                        山形|d88f6ab0f9b8d737c...|e1d91d56d2a86d4cb...|\n",
       "|43fc18f32eafb0571...|2012-02-08 12:56:15|     m| 25|           NA|     NULL|         1|2012-04-03 15:22:55|新宿・高田馬場・中野・吉祥寺|1cef71947aa1f80e7...|89b72c8e0e8272e05...|\n",
       "+--------------------+-------------------+------+---+-------------+---------+----------+-------------------+----------------------------+--------------------+--------------------+\n",
       "only showing top 20 rows"
      ]
     },
     "metadata": {},
     "output_type": "display_data"
    }
   ],
   "source": [
    "from IPython.display import display, display_pretty, clear_output, JSON\n",
    "\n",
    "spark.conf.set(\"spark.sql.repl.eagerEval.enabled\", True) # display enabled\n",
    "display(joined_df)"
   ]
  },
  {
   "cell_type": "markdown",
   "id": "db53dec3-b7a5-4456-b667-204b99e7a2cd",
   "metadata": {},
   "source": [
    "#### 2. date column\n",
    "\"REG_DATE\" 기준으로 \"yyyy-MM-dd\" 형식의 date 열 만들기\n",
    "\n",
    "pyspark.sql.functions.date_format(date, format)[source]¶\n",
    "\n",
    "Converts a date/timestamp/string to a value of string in the format specified by the date format given by the second argument."
   ]
  },
  {
   "cell_type": "code",
   "execution_count": 23,
   "id": "04217d23-15c2-4824-9563-6dc483f1be81",
   "metadata": {
    "scrolled": true
   },
   "outputs": [
    {
     "data": {
      "text/html": [
       "<table border='1'>\n",
       "<tr><th>USER_ID_hash</th><th>REG_DATE</th><th>SEX_ID</th><th>AGE</th><th>WITHDRAW_DATE</th><th>PREF_NAME</th><th>ITEM_COUNT</th><th>I_DATE</th><th>SMALL_AREA_NAME</th><th>PURCHASEID_hash</th><th>COUPON_ID_hash</th><th>date</th></tr>\n",
       "<tr><td>d9dca3cb44bab12ba...</td><td>2012-03-28 14:14:18</td><td>f</td><td>25</td><td>NA</td><td>NULL</td><td>1</td><td>2012-03-28 15:06:06</td><td>兵庫</td><td>c820a8882374a4e47...</td><td>34c48f84026e08355...</td><td>2012-03-28</td></tr>\n",
       "<tr><td>560574a339f1b25e5...</td><td>2011-05-18 00:41:48</td><td>f</td><td>34</td><td>NA</td><td>東京都</td><td>1</td><td>2011-07-04 23:52:54</td><td>銀座・新橋・東京・上野</td><td>1b4eb2435421ede98...</td><td>767673b7a777854a9...</td><td>2011-05-18</td></tr>\n",
       "<tr><td>560574a339f1b25e5...</td><td>2011-05-18 00:41:48</td><td>f</td><td>34</td><td>NA</td><td>東京都</td><td>1</td><td>2011-07-16 00:52:49</td><td>恵比寿・目黒・品川</td><td>36b5f9ba46c44b655...</td><td>4f3b5b91d98311925...</td><td>2011-05-18</td></tr>\n",
       "<tr><td>560574a339f1b25e5...</td><td>2011-05-18 00:41:48</td><td>f</td><td>34</td><td>NA</td><td>東京都</td><td>1</td><td>2011-07-16 00:54:53</td><td>恵比寿・目黒・品川</td><td>2f30f46937cc90047...</td><td>4f3b5b91d98311925...</td><td>2011-05-18</td></tr>\n",
       "<tr><td>560574a339f1b25e5...</td><td>2011-05-18 00:41:48</td><td>f</td><td>34</td><td>NA</td><td>東京都</td><td>1</td><td>2011-07-16 00:55:52</td><td>恵比寿・目黒・品川</td><td>4d000c64a55ac573d...</td><td>4f3b5b91d98311925...</td><td>2011-05-18</td></tr>\n",
       "<tr><td>560574a339f1b25e5...</td><td>2011-05-18 00:41:48</td><td>f</td><td>34</td><td>NA</td><td>東京都</td><td>1</td><td>2011-07-16 00:57:09</td><td>恵比寿・目黒・品川</td><td>d8b030c8a4a2c1051...</td><td>4f3b5b91d98311925...</td><td>2011-05-18</td></tr>\n",
       "<tr><td>560574a339f1b25e5...</td><td>2011-05-18 00:41:48</td><td>f</td><td>34</td><td>NA</td><td>東京都</td><td>2</td><td>2011-07-16 00:58:29</td><td>恵比寿・目黒・品川</td><td>2c98138766edf5d5b...</td><td>4f3b5b91d98311925...</td><td>2011-05-18</td></tr>\n",
       "<tr><td>560574a339f1b25e5...</td><td>2011-05-18 00:41:48</td><td>f</td><td>34</td><td>NA</td><td>東京都</td><td>2</td><td>2011-09-07 00:04:47</td><td>渋谷・青山・自由が丘</td><td>5a45d62c72a4cc415...</td><td>259a22533cab38146...</td><td>2011-05-18</td></tr>\n",
       "<tr><td>560574a339f1b25e5...</td><td>2011-05-18 00:41:48</td><td>f</td><td>34</td><td>NA</td><td>東京都</td><td>1</td><td>2011-10-19 22:21:50</td><td>渋谷・青山・自由が丘</td><td>592bb67c0553648d6...</td><td>f4a6f861a266799b0...</td><td>2011-05-18</td></tr>\n",
       "<tr><td>560574a339f1b25e5...</td><td>2011-05-18 00:41:48</td><td>f</td><td>34</td><td>NA</td><td>東京都</td><td>1</td><td>2011-12-01 16:53:45</td><td>恵比寿・目黒・品川</td><td>509883c481716b1f3...</td><td>4257a8a169b40bbbc...</td><td>2011-05-18</td></tr>\n",
       "<tr><td>560574a339f1b25e5...</td><td>2011-05-18 00:41:48</td><td>f</td><td>34</td><td>NA</td><td>東京都</td><td>2</td><td>2012-01-15 20:53:59</td><td>渋谷・青山・自由が丘</td><td>231e87e928a48403a...</td><td>3e7d148d632f7ee12...</td><td>2011-05-18</td></tr>\n",
       "<tr><td>560574a339f1b25e5...</td><td>2011-05-18 00:41:48</td><td>f</td><td>34</td><td>NA</td><td>東京都</td><td>2</td><td>2012-03-13 00:29:18</td><td>銀座・新橋・東京・上野</td><td>6f0b1da67d70392cb...</td><td>34ea3cc1cf4ec57f3...</td><td>2011-05-18</td></tr>\n",
       "<tr><td>560574a339f1b25e5...</td><td>2011-05-18 00:41:48</td><td>f</td><td>34</td><td>NA</td><td>東京都</td><td>1</td><td>2012-03-31 01:31:08</td><td>渋谷・青山・自由が丘</td><td>c80173987b3515b63...</td><td>129a696dac8e7eb09...</td><td>2011-05-18</td></tr>\n",
       "<tr><td>560574a339f1b25e5...</td><td>2011-05-18 00:41:48</td><td>f</td><td>34</td><td>NA</td><td>東京都</td><td>1</td><td>2012-04-05 09:21:21</td><td>新宿・高田馬場・中野・吉祥寺</td><td>d3ce3a8259e675597...</td><td>716abc8dcbfee15cf...</td><td>2011-05-18</td></tr>\n",
       "<tr><td>560574a339f1b25e5...</td><td>2011-05-18 00:41:48</td><td>f</td><td>34</td><td>NA</td><td>東京都</td><td>1</td><td>2012-05-04 10:30:23</td><td>恵比寿・目黒・品川</td><td>ad5fcf63d2793315c...</td><td>cea20b04d7bb26b52...</td><td>2011-05-18</td></tr>\n",
       "<tr><td>560574a339f1b25e5...</td><td>2011-05-18 00:41:48</td><td>f</td><td>34</td><td>NA</td><td>東京都</td><td>1</td><td>2012-05-17 20:56:09</td><td>新宿・高田馬場・中野・吉祥寺</td><td>b3606c6ad14c7771a...</td><td>d0590f9b80fd6aa59...</td><td>2011-05-18</td></tr>\n",
       "<tr><td>560574a339f1b25e5...</td><td>2011-05-18 00:41:48</td><td>f</td><td>34</td><td>NA</td><td>東京都</td><td>1</td><td>2012-06-12 22:50:48</td><td>群馬</td><td>d5f196b588dd5dc4b...</td><td>4b4a03629482c17c3...</td><td>2011-05-18</td></tr>\n",
       "<tr><td>e66ae91b978b3229f...</td><td>2011-06-13 16:36:58</td><td>m</td><td>41</td><td>NA</td><td>愛知県</td><td>1</td><td>2011-07-22 08:51:34</td><td>愛知</td><td>fe61ec0d6cc9b0869...</td><td>bf1c42f4f879f879e...</td><td>2011-06-13</td></tr>\n",
       "<tr><td>43fc18f32eafb0571...</td><td>2012-02-08 12:56:15</td><td>m</td><td>25</td><td>NA</td><td>NULL</td><td>1</td><td>2012-02-08 13:04:05</td><td>山形</td><td>d88f6ab0f9b8d737c...</td><td>e1d91d56d2a86d4cb...</td><td>2012-02-08</td></tr>\n",
       "<tr><td>43fc18f32eafb0571...</td><td>2012-02-08 12:56:15</td><td>m</td><td>25</td><td>NA</td><td>NULL</td><td>1</td><td>2012-04-03 15:22:55</td><td>新宿・高田馬場・中野・吉祥寺</td><td>1cef71947aa1f80e7...</td><td>89b72c8e0e8272e05...</td><td>2012-02-08</td></tr>\n",
       "</table>\n",
       "only showing top 20 rows\n"
      ],
      "text/plain": [
       "+--------------------+-------------------+------+---+-------------+---------+----------+-------------------+----------------------------+--------------------+--------------------+----------+\n",
       "|        USER_ID_hash|           REG_DATE|SEX_ID|AGE|WITHDRAW_DATE|PREF_NAME|ITEM_COUNT|             I_DATE|             SMALL_AREA_NAME|     PURCHASEID_hash|      COUPON_ID_hash|      date|\n",
       "+--------------------+-------------------+------+---+-------------+---------+----------+-------------------+----------------------------+--------------------+--------------------+----------+\n",
       "|d9dca3cb44bab12ba...|2012-03-28 14:14:18|     f| 25|           NA|     NULL|         1|2012-03-28 15:06:06|                        兵庫|c820a8882374a4e47...|34c48f84026e08355...|2012-03-28|\n",
       "|560574a339f1b25e5...|2011-05-18 00:41:48|     f| 34|           NA|   東京都|         1|2011-07-04 23:52:54|      銀座・新橋・東京・上野|1b4eb2435421ede98...|767673b7a777854a9...|2011-05-18|\n",
       "|560574a339f1b25e5...|2011-05-18 00:41:48|     f| 34|           NA|   東京都|         1|2011-07-16 00:52:49|          恵比寿・目黒・品川|36b5f9ba46c44b655...|4f3b5b91d98311925...|2011-05-18|\n",
       "|560574a339f1b25e5...|2011-05-18 00:41:48|     f| 34|           NA|   東京都|         1|2011-07-16 00:54:53|          恵比寿・目黒・品川|2f30f46937cc90047...|4f3b5b91d98311925...|2011-05-18|\n",
       "|560574a339f1b25e5...|2011-05-18 00:41:48|     f| 34|           NA|   東京都|         1|2011-07-16 00:55:52|          恵比寿・目黒・品川|4d000c64a55ac573d...|4f3b5b91d98311925...|2011-05-18|\n",
       "|560574a339f1b25e5...|2011-05-18 00:41:48|     f| 34|           NA|   東京都|         1|2011-07-16 00:57:09|          恵比寿・目黒・品川|d8b030c8a4a2c1051...|4f3b5b91d98311925...|2011-05-18|\n",
       "|560574a339f1b25e5...|2011-05-18 00:41:48|     f| 34|           NA|   東京都|         2|2011-07-16 00:58:29|          恵比寿・目黒・品川|2c98138766edf5d5b...|4f3b5b91d98311925...|2011-05-18|\n",
       "|560574a339f1b25e5...|2011-05-18 00:41:48|     f| 34|           NA|   東京都|         2|2011-09-07 00:04:47|        渋谷・青山・自由が丘|5a45d62c72a4cc415...|259a22533cab38146...|2011-05-18|\n",
       "|560574a339f1b25e5...|2011-05-18 00:41:48|     f| 34|           NA|   東京都|         1|2011-10-19 22:21:50|        渋谷・青山・自由が丘|592bb67c0553648d6...|f4a6f861a266799b0...|2011-05-18|\n",
       "|560574a339f1b25e5...|2011-05-18 00:41:48|     f| 34|           NA|   東京都|         1|2011-12-01 16:53:45|          恵比寿・目黒・品川|509883c481716b1f3...|4257a8a169b40bbbc...|2011-05-18|\n",
       "|560574a339f1b25e5...|2011-05-18 00:41:48|     f| 34|           NA|   東京都|         2|2012-01-15 20:53:59|        渋谷・青山・自由が丘|231e87e928a48403a...|3e7d148d632f7ee12...|2011-05-18|\n",
       "|560574a339f1b25e5...|2011-05-18 00:41:48|     f| 34|           NA|   東京都|         2|2012-03-13 00:29:18|      銀座・新橋・東京・上野|6f0b1da67d70392cb...|34ea3cc1cf4ec57f3...|2011-05-18|\n",
       "|560574a339f1b25e5...|2011-05-18 00:41:48|     f| 34|           NA|   東京都|         1|2012-03-31 01:31:08|        渋谷・青山・自由が丘|c80173987b3515b63...|129a696dac8e7eb09...|2011-05-18|\n",
       "|560574a339f1b25e5...|2011-05-18 00:41:48|     f| 34|           NA|   東京都|         1|2012-04-05 09:21:21|新宿・高田馬場・中野・吉祥寺|d3ce3a8259e675597...|716abc8dcbfee15cf...|2011-05-18|\n",
       "|560574a339f1b25e5...|2011-05-18 00:41:48|     f| 34|           NA|   東京都|         1|2012-05-04 10:30:23|          恵比寿・目黒・品川|ad5fcf63d2793315c...|cea20b04d7bb26b52...|2011-05-18|\n",
       "|560574a339f1b25e5...|2011-05-18 00:41:48|     f| 34|           NA|   東京都|         1|2012-05-17 20:56:09|新宿・高田馬場・中野・吉祥寺|b3606c6ad14c7771a...|d0590f9b80fd6aa59...|2011-05-18|\n",
       "|560574a339f1b25e5...|2011-05-18 00:41:48|     f| 34|           NA|   東京都|         1|2012-06-12 22:50:48|                        群馬|d5f196b588dd5dc4b...|4b4a03629482c17c3...|2011-05-18|\n",
       "|e66ae91b978b3229f...|2011-06-13 16:36:58|     m| 41|           NA|   愛知県|         1|2011-07-22 08:51:34|                        愛知|fe61ec0d6cc9b0869...|bf1c42f4f879f879e...|2011-06-13|\n",
       "|43fc18f32eafb0571...|2012-02-08 12:56:15|     m| 25|           NA|     NULL|         1|2012-02-08 13:04:05|                        山形|d88f6ab0f9b8d737c...|e1d91d56d2a86d4cb...|2012-02-08|\n",
       "|43fc18f32eafb0571...|2012-02-08 12:56:15|     m| 25|           NA|     NULL|         1|2012-04-03 15:22:55|新宿・高田馬場・中野・吉祥寺|1cef71947aa1f80e7...|89b72c8e0e8272e05...|2012-02-08|\n",
       "+--------------------+-------------------+------+---+-------------+---------+----------+-------------------+----------------------------+--------------------+--------------------+----------+\n",
       "only showing top 20 rows"
      ]
     },
     "metadata": {},
     "output_type": "display_data"
    }
   ],
   "source": [
    "import pyspark.sql.functions as F\n",
    "\n",
    "date_df = joined_df.withColumn('date', F.date_format(F.col(\"REG_DATE\"), \"yyyy-MM-dd\"))\n",
    "display(date_df)"
   ]
  },
  {
   "cell_type": "markdown",
   "id": "8c7af35c-6c09-4c35-b1a4-c0dcba76f742",
   "metadata": {},
   "source": [
    "### 3. 필요한 열 선택 / ETL 처리\n",
    "\n",
    "date\tyear\tmonth\tday\tdow\tweek\n",
    "\n",
    "user_id\tsex_id\tname\tarea_name\tpurchased_id\t\n",
    "\n",
    "item_count\tcost\tcost_VAT\t\t\t\t\t\t"
   ]
  },
  {
   "cell_type": "code",
   "execution_count": 27,
   "id": "f9bcd5ed-4ebc-477e-9f5f-7e00ae04e87f",
   "metadata": {
    "scrolled": true
   },
   "outputs": [
    {
     "data": {
      "text/html": [
       "<table border='1'>\n",
       "<tr><th>date</th><th>year</th><th>month</th><th>day</th><th>dow</th><th>week</th><th>user_id</th><th>sex_id</th><th>name</th><th>area_name</th><th>purchased_id</th><th>item_count</th><th>cost</th><th>cost_VAT</th></tr>\n",
       "<tr><td>2012-03-28</td><td>2012</td><td>3</td><td>28</td><td>4</td><td>13</td><td>d9dca3cb44bab12ba...</td><td>f</td><td>NULL</td><td>兵庫</td><td>c820a8882374a4e47...</td><td>1</td><td>8000</td><td>8800.0</td></tr>\n",
       "<tr><td>2011-05-18</td><td>2011</td><td>5</td><td>18</td><td>4</td><td>20</td><td>560574a339f1b25e5...</td><td>f</td><td>東京都</td><td>銀座・新橋・東京・上野</td><td>1b4eb2435421ede98...</td><td>1</td><td>8000</td><td>8800.0</td></tr>\n",
       "<tr><td>2011-05-18</td><td>2011</td><td>5</td><td>18</td><td>4</td><td>20</td><td>560574a339f1b25e5...</td><td>f</td><td>東京都</td><td>恵比寿・目黒・品川</td><td>36b5f9ba46c44b655...</td><td>1</td><td>8000</td><td>8800.0</td></tr>\n",
       "<tr><td>2011-05-18</td><td>2011</td><td>5</td><td>18</td><td>4</td><td>20</td><td>560574a339f1b25e5...</td><td>f</td><td>東京都</td><td>恵比寿・目黒・品川</td><td>2f30f46937cc90047...</td><td>1</td><td>8000</td><td>8800.0</td></tr>\n",
       "<tr><td>2011-05-18</td><td>2011</td><td>5</td><td>18</td><td>4</td><td>20</td><td>560574a339f1b25e5...</td><td>f</td><td>東京都</td><td>恵比寿・目黒・品川</td><td>4d000c64a55ac573d...</td><td>1</td><td>8000</td><td>8800.0</td></tr>\n",
       "<tr><td>2011-05-18</td><td>2011</td><td>5</td><td>18</td><td>4</td><td>20</td><td>560574a339f1b25e5...</td><td>f</td><td>東京都</td><td>恵比寿・目黒・品川</td><td>d8b030c8a4a2c1051...</td><td>1</td><td>8000</td><td>8800.0</td></tr>\n",
       "<tr><td>2011-05-18</td><td>2011</td><td>5</td><td>18</td><td>4</td><td>20</td><td>560574a339f1b25e5...</td><td>f</td><td>東京都</td><td>恵比寿・目黒・品川</td><td>2c98138766edf5d5b...</td><td>2</td><td>16000</td><td>17600.0</td></tr>\n",
       "<tr><td>2011-05-18</td><td>2011</td><td>5</td><td>18</td><td>4</td><td>20</td><td>560574a339f1b25e5...</td><td>f</td><td>東京都</td><td>渋谷・青山・自由が丘</td><td>5a45d62c72a4cc415...</td><td>2</td><td>16000</td><td>17600.0</td></tr>\n",
       "<tr><td>2011-05-18</td><td>2011</td><td>5</td><td>18</td><td>4</td><td>20</td><td>560574a339f1b25e5...</td><td>f</td><td>東京都</td><td>渋谷・青山・自由が丘</td><td>592bb67c0553648d6...</td><td>1</td><td>8000</td><td>8800.0</td></tr>\n",
       "<tr><td>2011-05-18</td><td>2011</td><td>5</td><td>18</td><td>4</td><td>20</td><td>560574a339f1b25e5...</td><td>f</td><td>東京都</td><td>恵比寿・目黒・品川</td><td>509883c481716b1f3...</td><td>1</td><td>8000</td><td>8800.0</td></tr>\n",
       "<tr><td>2011-05-18</td><td>2011</td><td>5</td><td>18</td><td>4</td><td>20</td><td>560574a339f1b25e5...</td><td>f</td><td>東京都</td><td>渋谷・青山・自由が丘</td><td>231e87e928a48403a...</td><td>2</td><td>16000</td><td>17600.0</td></tr>\n",
       "<tr><td>2011-05-18</td><td>2011</td><td>5</td><td>18</td><td>4</td><td>20</td><td>560574a339f1b25e5...</td><td>f</td><td>東京都</td><td>銀座・新橋・東京・上野</td><td>6f0b1da67d70392cb...</td><td>2</td><td>16000</td><td>17600.0</td></tr>\n",
       "<tr><td>2011-05-18</td><td>2011</td><td>5</td><td>18</td><td>4</td><td>20</td><td>560574a339f1b25e5...</td><td>f</td><td>東京都</td><td>渋谷・青山・自由が丘</td><td>c80173987b3515b63...</td><td>1</td><td>8000</td><td>8800.0</td></tr>\n",
       "<tr><td>2011-05-18</td><td>2011</td><td>5</td><td>18</td><td>4</td><td>20</td><td>560574a339f1b25e5...</td><td>f</td><td>東京都</td><td>新宿・高田馬場・中野・吉祥寺</td><td>d3ce3a8259e675597...</td><td>1</td><td>8000</td><td>8800.0</td></tr>\n",
       "<tr><td>2011-05-18</td><td>2011</td><td>5</td><td>18</td><td>4</td><td>20</td><td>560574a339f1b25e5...</td><td>f</td><td>東京都</td><td>恵比寿・目黒・品川</td><td>ad5fcf63d2793315c...</td><td>1</td><td>8000</td><td>8800.0</td></tr>\n",
       "<tr><td>2011-05-18</td><td>2011</td><td>5</td><td>18</td><td>4</td><td>20</td><td>560574a339f1b25e5...</td><td>f</td><td>東京都</td><td>新宿・高田馬場・中野・吉祥寺</td><td>b3606c6ad14c7771a...</td><td>1</td><td>8000</td><td>8800.0</td></tr>\n",
       "<tr><td>2011-05-18</td><td>2011</td><td>5</td><td>18</td><td>4</td><td>20</td><td>560574a339f1b25e5...</td><td>f</td><td>東京都</td><td>群馬</td><td>d5f196b588dd5dc4b...</td><td>1</td><td>8000</td><td>8800.0</td></tr>\n",
       "<tr><td>2011-06-13</td><td>2011</td><td>6</td><td>13</td><td>2</td><td>24</td><td>e66ae91b978b3229f...</td><td>m</td><td>愛知県</td><td>愛知</td><td>fe61ec0d6cc9b0869...</td><td>1</td><td>8000</td><td>8800.0</td></tr>\n",
       "<tr><td>2012-02-08</td><td>2012</td><td>2</td><td>8</td><td>4</td><td>6</td><td>43fc18f32eafb0571...</td><td>m</td><td>NULL</td><td>山形</td><td>d88f6ab0f9b8d737c...</td><td>1</td><td>8000</td><td>8800.0</td></tr>\n",
       "<tr><td>2012-02-08</td><td>2012</td><td>2</td><td>8</td><td>4</td><td>6</td><td>43fc18f32eafb0571...</td><td>m</td><td>NULL</td><td>新宿・高田馬場・中野・吉祥寺</td><td>1cef71947aa1f80e7...</td><td>1</td><td>8000</td><td>8800.0</td></tr>\n",
       "</table>\n",
       "only showing top 20 rows\n"
      ],
      "text/plain": [
       "+----------+----+-----+---+---+----+--------------------+------+------+----------------------------+--------------------+----------+-----+--------+\n",
       "|      date|year|month|day|dow|week|             user_id|sex_id|  name|                   area_name|        purchased_id|item_count| cost|cost_VAT|\n",
       "+----------+----+-----+---+---+----+--------------------+------+------+----------------------------+--------------------+----------+-----+--------+\n",
       "|2012-03-28|2012|    3| 28|  4|  13|d9dca3cb44bab12ba...|     f|  NULL|                        兵庫|c820a8882374a4e47...|         1| 8000|  8800.0|\n",
       "|2011-05-18|2011|    5| 18|  4|  20|560574a339f1b25e5...|     f|東京都|      銀座・新橋・東京・上野|1b4eb2435421ede98...|         1| 8000|  8800.0|\n",
       "|2011-05-18|2011|    5| 18|  4|  20|560574a339f1b25e5...|     f|東京都|          恵比寿・目黒・品川|36b5f9ba46c44b655...|         1| 8000|  8800.0|\n",
       "|2011-05-18|2011|    5| 18|  4|  20|560574a339f1b25e5...|     f|東京都|          恵比寿・目黒・品川|2f30f46937cc90047...|         1| 8000|  8800.0|\n",
       "|2011-05-18|2011|    5| 18|  4|  20|560574a339f1b25e5...|     f|東京都|          恵比寿・目黒・品川|4d000c64a55ac573d...|         1| 8000|  8800.0|\n",
       "|2011-05-18|2011|    5| 18|  4|  20|560574a339f1b25e5...|     f|東京都|          恵比寿・目黒・品川|d8b030c8a4a2c1051...|         1| 8000|  8800.0|\n",
       "|2011-05-18|2011|    5| 18|  4|  20|560574a339f1b25e5...|     f|東京都|          恵比寿・目黒・品川|2c98138766edf5d5b...|         2|16000| 17600.0|\n",
       "|2011-05-18|2011|    5| 18|  4|  20|560574a339f1b25e5...|     f|東京都|        渋谷・青山・自由が丘|5a45d62c72a4cc415...|         2|16000| 17600.0|\n",
       "|2011-05-18|2011|    5| 18|  4|  20|560574a339f1b25e5...|     f|東京都|        渋谷・青山・自由が丘|592bb67c0553648d6...|         1| 8000|  8800.0|\n",
       "|2011-05-18|2011|    5| 18|  4|  20|560574a339f1b25e5...|     f|東京都|          恵比寿・目黒・品川|509883c481716b1f3...|         1| 8000|  8800.0|\n",
       "|2011-05-18|2011|    5| 18|  4|  20|560574a339f1b25e5...|     f|東京都|        渋谷・青山・自由が丘|231e87e928a48403a...|         2|16000| 17600.0|\n",
       "|2011-05-18|2011|    5| 18|  4|  20|560574a339f1b25e5...|     f|東京都|      銀座・新橋・東京・上野|6f0b1da67d70392cb...|         2|16000| 17600.0|\n",
       "|2011-05-18|2011|    5| 18|  4|  20|560574a339f1b25e5...|     f|東京都|        渋谷・青山・自由が丘|c80173987b3515b63...|         1| 8000|  8800.0|\n",
       "|2011-05-18|2011|    5| 18|  4|  20|560574a339f1b25e5...|     f|東京都|新宿・高田馬場・中野・吉祥寺|d3ce3a8259e675597...|         1| 8000|  8800.0|\n",
       "|2011-05-18|2011|    5| 18|  4|  20|560574a339f1b25e5...|     f|東京都|          恵比寿・目黒・品川|ad5fcf63d2793315c...|         1| 8000|  8800.0|\n",
       "|2011-05-18|2011|    5| 18|  4|  20|560574a339f1b25e5...|     f|東京都|新宿・高田馬場・中野・吉祥寺|b3606c6ad14c7771a...|         1| 8000|  8800.0|\n",
       "|2011-05-18|2011|    5| 18|  4|  20|560574a339f1b25e5...|     f|東京都|                        群馬|d5f196b588dd5dc4b...|         1| 8000|  8800.0|\n",
       "|2011-06-13|2011|    6| 13|  2|  24|e66ae91b978b3229f...|     m|愛知県|                        愛知|fe61ec0d6cc9b0869...|         1| 8000|  8800.0|\n",
       "|2012-02-08|2012|    2|  8|  4|   6|43fc18f32eafb0571...|     m|  NULL|                        山形|d88f6ab0f9b8d737c...|         1| 8000|  8800.0|\n",
       "|2012-02-08|2012|    2|  8|  4|   6|43fc18f32eafb0571...|     m|  NULL|新宿・高田馬場・中野・吉祥寺|1cef71947aa1f80e7...|         1| 8000|  8800.0|\n",
       "+----------+----+-----+---+---+----+--------------------+------+------+----------------------------+--------------------+----------+-----+--------+\n",
       "only showing top 20 rows"
      ]
     },
     "metadata": {},
     "output_type": "display_data"
    }
   ],
   "source": [
    "df = (\n",
    "    date_df\n",
    "    .withColumn('year', F.year(F.col('date')))\n",
    "    .withColumn('month', F.month(F.col('date')))\n",
    "    .withColumn('day', F.dayofmonth(F.col('date')))\n",
    "    .withColumn('dow', F.dayofweek(F.col('date')))\n",
    "    .withColumn('week', F.weekofyear(F.col('date')))   \n",
    "    .withColumn('user_id', F.col('USER_ID_hash'))\n",
    "    .withColumn('sex_id', F.col('SEX_ID'))\n",
    "    .withColumn('name', F.col('PREF_NAME'))\n",
    "    .withColumn('area_name', F.col('SMALL_AREA_NAME'))\n",
    "    .withColumn('purchased_id', F.col('PURCHASEID_hash'))\n",
    "    .withColumn('item_count', F.col('ITEM_COUNT'))\n",
    "    .withColumn('cost', F.col('ITEM_COUNT')*8000)\n",
    "    .withColumn('cost_VAT', F.col('cost')*1.1)\n",
    "    .select('date', 'year', 'month', 'day', 'dow', 'week', 'user_id', 'sex_id', 'name', 'area_name', 'purchased_id', 'item_count', 'cost', 'cost_VAT')\n",
    ")\n",
    "display(df)"
   ]
  },
  {
   "cell_type": "markdown",
   "id": "1a62ac65-3f07-45df-9d11-bf6d3342fa64",
   "metadata": {},
   "source": [
    "### 4. null\n",
    "- 구분열 결측치 \"-\"으로, 수치열 결측치 0 으로 처리\n",
    "- \"NA\"로 된 값도 위에 정의한 값으로 결측치 처리"
   ]
  },
  {
   "cell_type": "code",
   "execution_count": 28,
   "id": "6f2fcb8d-850a-42f2-8d8d-b688fad5d054",
   "metadata": {
    "scrolled": true
   },
   "outputs": [
    {
     "data": {
      "text/html": [
       "<table border='1'>\n",
       "<tr><th>date</th><th>year</th><th>month</th><th>day</th><th>dow</th><th>week</th><th>user_id</th><th>sex_id</th><th>name</th><th>area_name</th><th>purchased_id</th><th>item_count</th><th>cost</th><th>cost_VAT</th></tr>\n",
       "<tr><td>2012-03-28</td><td>2012</td><td>3</td><td>28</td><td>4</td><td>13</td><td>d9dca3cb44bab12ba...</td><td>f</td><td>-</td><td>兵庫</td><td>c820a8882374a4e47...</td><td>1</td><td>8000</td><td>8800.0</td></tr>\n",
       "<tr><td>2011-05-18</td><td>2011</td><td>5</td><td>18</td><td>4</td><td>20</td><td>560574a339f1b25e5...</td><td>f</td><td>東京都</td><td>銀座・新橋・東京・上野</td><td>1b4eb2435421ede98...</td><td>1</td><td>8000</td><td>8800.0</td></tr>\n",
       "<tr><td>2011-05-18</td><td>2011</td><td>5</td><td>18</td><td>4</td><td>20</td><td>560574a339f1b25e5...</td><td>f</td><td>東京都</td><td>恵比寿・目黒・品川</td><td>36b5f9ba46c44b655...</td><td>1</td><td>8000</td><td>8800.0</td></tr>\n",
       "<tr><td>2011-05-18</td><td>2011</td><td>5</td><td>18</td><td>4</td><td>20</td><td>560574a339f1b25e5...</td><td>f</td><td>東京都</td><td>恵比寿・目黒・品川</td><td>2f30f46937cc90047...</td><td>1</td><td>8000</td><td>8800.0</td></tr>\n",
       "<tr><td>2011-05-18</td><td>2011</td><td>5</td><td>18</td><td>4</td><td>20</td><td>560574a339f1b25e5...</td><td>f</td><td>東京都</td><td>恵比寿・目黒・品川</td><td>4d000c64a55ac573d...</td><td>1</td><td>8000</td><td>8800.0</td></tr>\n",
       "<tr><td>2011-05-18</td><td>2011</td><td>5</td><td>18</td><td>4</td><td>20</td><td>560574a339f1b25e5...</td><td>f</td><td>東京都</td><td>恵比寿・目黒・品川</td><td>d8b030c8a4a2c1051...</td><td>1</td><td>8000</td><td>8800.0</td></tr>\n",
       "<tr><td>2011-05-18</td><td>2011</td><td>5</td><td>18</td><td>4</td><td>20</td><td>560574a339f1b25e5...</td><td>f</td><td>東京都</td><td>恵比寿・目黒・品川</td><td>2c98138766edf5d5b...</td><td>2</td><td>16000</td><td>17600.0</td></tr>\n",
       "<tr><td>2011-05-18</td><td>2011</td><td>5</td><td>18</td><td>4</td><td>20</td><td>560574a339f1b25e5...</td><td>f</td><td>東京都</td><td>渋谷・青山・自由が丘</td><td>5a45d62c72a4cc415...</td><td>2</td><td>16000</td><td>17600.0</td></tr>\n",
       "<tr><td>2011-05-18</td><td>2011</td><td>5</td><td>18</td><td>4</td><td>20</td><td>560574a339f1b25e5...</td><td>f</td><td>東京都</td><td>渋谷・青山・自由が丘</td><td>592bb67c0553648d6...</td><td>1</td><td>8000</td><td>8800.0</td></tr>\n",
       "<tr><td>2011-05-18</td><td>2011</td><td>5</td><td>18</td><td>4</td><td>20</td><td>560574a339f1b25e5...</td><td>f</td><td>東京都</td><td>恵比寿・目黒・品川</td><td>509883c481716b1f3...</td><td>1</td><td>8000</td><td>8800.0</td></tr>\n",
       "<tr><td>2011-05-18</td><td>2011</td><td>5</td><td>18</td><td>4</td><td>20</td><td>560574a339f1b25e5...</td><td>f</td><td>東京都</td><td>渋谷・青山・自由が丘</td><td>231e87e928a48403a...</td><td>2</td><td>16000</td><td>17600.0</td></tr>\n",
       "<tr><td>2011-05-18</td><td>2011</td><td>5</td><td>18</td><td>4</td><td>20</td><td>560574a339f1b25e5...</td><td>f</td><td>東京都</td><td>銀座・新橋・東京・上野</td><td>6f0b1da67d70392cb...</td><td>2</td><td>16000</td><td>17600.0</td></tr>\n",
       "<tr><td>2011-05-18</td><td>2011</td><td>5</td><td>18</td><td>4</td><td>20</td><td>560574a339f1b25e5...</td><td>f</td><td>東京都</td><td>渋谷・青山・自由が丘</td><td>c80173987b3515b63...</td><td>1</td><td>8000</td><td>8800.0</td></tr>\n",
       "<tr><td>2011-05-18</td><td>2011</td><td>5</td><td>18</td><td>4</td><td>20</td><td>560574a339f1b25e5...</td><td>f</td><td>東京都</td><td>新宿・高田馬場・中野・吉祥寺</td><td>d3ce3a8259e675597...</td><td>1</td><td>8000</td><td>8800.0</td></tr>\n",
       "<tr><td>2011-05-18</td><td>2011</td><td>5</td><td>18</td><td>4</td><td>20</td><td>560574a339f1b25e5...</td><td>f</td><td>東京都</td><td>恵比寿・目黒・品川</td><td>ad5fcf63d2793315c...</td><td>1</td><td>8000</td><td>8800.0</td></tr>\n",
       "<tr><td>2011-05-18</td><td>2011</td><td>5</td><td>18</td><td>4</td><td>20</td><td>560574a339f1b25e5...</td><td>f</td><td>東京都</td><td>新宿・高田馬場・中野・吉祥寺</td><td>b3606c6ad14c7771a...</td><td>1</td><td>8000</td><td>8800.0</td></tr>\n",
       "<tr><td>2011-05-18</td><td>2011</td><td>5</td><td>18</td><td>4</td><td>20</td><td>560574a339f1b25e5...</td><td>f</td><td>東京都</td><td>群馬</td><td>d5f196b588dd5dc4b...</td><td>1</td><td>8000</td><td>8800.0</td></tr>\n",
       "<tr><td>2011-06-13</td><td>2011</td><td>6</td><td>13</td><td>2</td><td>24</td><td>e66ae91b978b3229f...</td><td>m</td><td>愛知県</td><td>愛知</td><td>fe61ec0d6cc9b0869...</td><td>1</td><td>8000</td><td>8800.0</td></tr>\n",
       "<tr><td>2012-02-08</td><td>2012</td><td>2</td><td>8</td><td>4</td><td>6</td><td>43fc18f32eafb0571...</td><td>m</td><td>-</td><td>山形</td><td>d88f6ab0f9b8d737c...</td><td>1</td><td>8000</td><td>8800.0</td></tr>\n",
       "<tr><td>2012-02-08</td><td>2012</td><td>2</td><td>8</td><td>4</td><td>6</td><td>43fc18f32eafb0571...</td><td>m</td><td>-</td><td>新宿・高田馬場・中野・吉祥寺</td><td>1cef71947aa1f80e7...</td><td>1</td><td>8000</td><td>8800.0</td></tr>\n",
       "</table>\n",
       "only showing top 20 rows\n"
      ],
      "text/plain": [
       "+----------+----+-----+---+---+----+--------------------+------+------+----------------------------+--------------------+----------+-----+--------+\n",
       "|      date|year|month|day|dow|week|             user_id|sex_id|  name|                   area_name|        purchased_id|item_count| cost|cost_VAT|\n",
       "+----------+----+-----+---+---+----+--------------------+------+------+----------------------------+--------------------+----------+-----+--------+\n",
       "|2012-03-28|2012|    3| 28|  4|  13|d9dca3cb44bab12ba...|     f|     -|                        兵庫|c820a8882374a4e47...|         1| 8000|  8800.0|\n",
       "|2011-05-18|2011|    5| 18|  4|  20|560574a339f1b25e5...|     f|東京都|      銀座・新橋・東京・上野|1b4eb2435421ede98...|         1| 8000|  8800.0|\n",
       "|2011-05-18|2011|    5| 18|  4|  20|560574a339f1b25e5...|     f|東京都|          恵比寿・目黒・品川|36b5f9ba46c44b655...|         1| 8000|  8800.0|\n",
       "|2011-05-18|2011|    5| 18|  4|  20|560574a339f1b25e5...|     f|東京都|          恵比寿・目黒・品川|2f30f46937cc90047...|         1| 8000|  8800.0|\n",
       "|2011-05-18|2011|    5| 18|  4|  20|560574a339f1b25e5...|     f|東京都|          恵比寿・目黒・品川|4d000c64a55ac573d...|         1| 8000|  8800.0|\n",
       "|2011-05-18|2011|    5| 18|  4|  20|560574a339f1b25e5...|     f|東京都|          恵比寿・目黒・品川|d8b030c8a4a2c1051...|         1| 8000|  8800.0|\n",
       "|2011-05-18|2011|    5| 18|  4|  20|560574a339f1b25e5...|     f|東京都|          恵比寿・目黒・品川|2c98138766edf5d5b...|         2|16000| 17600.0|\n",
       "|2011-05-18|2011|    5| 18|  4|  20|560574a339f1b25e5...|     f|東京都|        渋谷・青山・自由が丘|5a45d62c72a4cc415...|         2|16000| 17600.0|\n",
       "|2011-05-18|2011|    5| 18|  4|  20|560574a339f1b25e5...|     f|東京都|        渋谷・青山・自由が丘|592bb67c0553648d6...|         1| 8000|  8800.0|\n",
       "|2011-05-18|2011|    5| 18|  4|  20|560574a339f1b25e5...|     f|東京都|          恵比寿・目黒・品川|509883c481716b1f3...|         1| 8000|  8800.0|\n",
       "|2011-05-18|2011|    5| 18|  4|  20|560574a339f1b25e5...|     f|東京都|        渋谷・青山・自由が丘|231e87e928a48403a...|         2|16000| 17600.0|\n",
       "|2011-05-18|2011|    5| 18|  4|  20|560574a339f1b25e5...|     f|東京都|      銀座・新橋・東京・上野|6f0b1da67d70392cb...|         2|16000| 17600.0|\n",
       "|2011-05-18|2011|    5| 18|  4|  20|560574a339f1b25e5...|     f|東京都|        渋谷・青山・自由が丘|c80173987b3515b63...|         1| 8000|  8800.0|\n",
       "|2011-05-18|2011|    5| 18|  4|  20|560574a339f1b25e5...|     f|東京都|新宿・高田馬場・中野・吉祥寺|d3ce3a8259e675597...|         1| 8000|  8800.0|\n",
       "|2011-05-18|2011|    5| 18|  4|  20|560574a339f1b25e5...|     f|東京都|          恵比寿・目黒・品川|ad5fcf63d2793315c...|         1| 8000|  8800.0|\n",
       "|2011-05-18|2011|    5| 18|  4|  20|560574a339f1b25e5...|     f|東京都|新宿・高田馬場・中野・吉祥寺|b3606c6ad14c7771a...|         1| 8000|  8800.0|\n",
       "|2011-05-18|2011|    5| 18|  4|  20|560574a339f1b25e5...|     f|東京都|                        群馬|d5f196b588dd5dc4b...|         1| 8000|  8800.0|\n",
       "|2011-06-13|2011|    6| 13|  2|  24|e66ae91b978b3229f...|     m|愛知県|                        愛知|fe61ec0d6cc9b0869...|         1| 8000|  8800.0|\n",
       "|2012-02-08|2012|    2|  8|  4|   6|43fc18f32eafb0571...|     m|     -|                        山形|d88f6ab0f9b8d737c...|         1| 8000|  8800.0|\n",
       "|2012-02-08|2012|    2|  8|  4|   6|43fc18f32eafb0571...|     m|     -|新宿・高田馬場・中野・吉祥寺|1cef71947aa1f80e7...|         1| 8000|  8800.0|\n",
       "+----------+----+-----+---+---+----+--------------------+------+------+----------------------------+--------------------+----------+-----+--------+\n",
       "only showing top 20 rows"
      ]
     },
     "metadata": {},
     "output_type": "display_data"
    }
   ],
   "source": [
    "df_null_replaced = (\n",
    "    df\n",
    "    .na.fill('-', subset=['date', 'year', 'month', 'day', 'dow', 'week', 'user_id', 'sex_id', 'name', 'area_name', 'purchased_id'])\n",
    "    .replace('NA', '-', subset=['date', 'user_id', 'sex_id', 'name', 'area_name', 'purchased_id'])\n",
    "    .na.fill(0, subset=['item_count', 'cost', 'cost_VAT'])\n",
    ")\n",
    "display(df_null_replaced)"
   ]
  },
  {
   "cell_type": "markdown",
   "id": "e3e65b64-6dc6-41d3-b429-45c217f4496e",
   "metadata": {},
   "source": [
    "### 5. date 컬럼을 활용해 year / month / day / dow / weeks 열 만들기\n",
    "- dow의 경우 일요일이 0, 토요일이 6으로 나타나도록\n",
    "- dayofweek: (1 = Sunday, 2 = Monday, ..., 7 = Saturday) -> needs to extract 1"
   ]
  },
  {
   "cell_type": "code",
   "execution_count": 29,
   "id": "f22b80bc-6b04-403b-966c-855e269ba81a",
   "metadata": {
    "scrolled": true
   },
   "outputs": [
    {
     "data": {
      "text/html": [
       "<table border='1'>\n",
       "<tr><th>date</th><th>year</th><th>month</th><th>day</th><th>dow</th><th>week</th><th>user_id</th><th>sex_id</th><th>name</th><th>area_name</th><th>purchased_id</th><th>item_count</th><th>cost</th><th>cost_VAT</th></tr>\n",
       "<tr><td>2012-03-28</td><td>2012</td><td>3</td><td>28</td><td>3</td><td>13</td><td>d9dca3cb44bab12ba...</td><td>f</td><td>-</td><td>兵庫</td><td>c820a8882374a4e47...</td><td>1</td><td>8000</td><td>8800.0</td></tr>\n",
       "<tr><td>2011-05-18</td><td>2011</td><td>5</td><td>18</td><td>3</td><td>20</td><td>560574a339f1b25e5...</td><td>f</td><td>東京都</td><td>銀座・新橋・東京・上野</td><td>1b4eb2435421ede98...</td><td>1</td><td>8000</td><td>8800.0</td></tr>\n",
       "<tr><td>2011-05-18</td><td>2011</td><td>5</td><td>18</td><td>3</td><td>20</td><td>560574a339f1b25e5...</td><td>f</td><td>東京都</td><td>恵比寿・目黒・品川</td><td>36b5f9ba46c44b655...</td><td>1</td><td>8000</td><td>8800.0</td></tr>\n",
       "<tr><td>2011-05-18</td><td>2011</td><td>5</td><td>18</td><td>3</td><td>20</td><td>560574a339f1b25e5...</td><td>f</td><td>東京都</td><td>恵比寿・目黒・品川</td><td>2f30f46937cc90047...</td><td>1</td><td>8000</td><td>8800.0</td></tr>\n",
       "<tr><td>2011-05-18</td><td>2011</td><td>5</td><td>18</td><td>3</td><td>20</td><td>560574a339f1b25e5...</td><td>f</td><td>東京都</td><td>恵比寿・目黒・品川</td><td>4d000c64a55ac573d...</td><td>1</td><td>8000</td><td>8800.0</td></tr>\n",
       "<tr><td>2011-05-18</td><td>2011</td><td>5</td><td>18</td><td>3</td><td>20</td><td>560574a339f1b25e5...</td><td>f</td><td>東京都</td><td>恵比寿・目黒・品川</td><td>d8b030c8a4a2c1051...</td><td>1</td><td>8000</td><td>8800.0</td></tr>\n",
       "<tr><td>2011-05-18</td><td>2011</td><td>5</td><td>18</td><td>3</td><td>20</td><td>560574a339f1b25e5...</td><td>f</td><td>東京都</td><td>恵比寿・目黒・品川</td><td>2c98138766edf5d5b...</td><td>2</td><td>16000</td><td>17600.0</td></tr>\n",
       "<tr><td>2011-05-18</td><td>2011</td><td>5</td><td>18</td><td>3</td><td>20</td><td>560574a339f1b25e5...</td><td>f</td><td>東京都</td><td>渋谷・青山・自由が丘</td><td>5a45d62c72a4cc415...</td><td>2</td><td>16000</td><td>17600.0</td></tr>\n",
       "<tr><td>2011-05-18</td><td>2011</td><td>5</td><td>18</td><td>3</td><td>20</td><td>560574a339f1b25e5...</td><td>f</td><td>東京都</td><td>渋谷・青山・自由が丘</td><td>592bb67c0553648d6...</td><td>1</td><td>8000</td><td>8800.0</td></tr>\n",
       "<tr><td>2011-05-18</td><td>2011</td><td>5</td><td>18</td><td>3</td><td>20</td><td>560574a339f1b25e5...</td><td>f</td><td>東京都</td><td>恵比寿・目黒・品川</td><td>509883c481716b1f3...</td><td>1</td><td>8000</td><td>8800.0</td></tr>\n",
       "<tr><td>2011-05-18</td><td>2011</td><td>5</td><td>18</td><td>3</td><td>20</td><td>560574a339f1b25e5...</td><td>f</td><td>東京都</td><td>渋谷・青山・自由が丘</td><td>231e87e928a48403a...</td><td>2</td><td>16000</td><td>17600.0</td></tr>\n",
       "<tr><td>2011-05-18</td><td>2011</td><td>5</td><td>18</td><td>3</td><td>20</td><td>560574a339f1b25e5...</td><td>f</td><td>東京都</td><td>銀座・新橋・東京・上野</td><td>6f0b1da67d70392cb...</td><td>2</td><td>16000</td><td>17600.0</td></tr>\n",
       "<tr><td>2011-05-18</td><td>2011</td><td>5</td><td>18</td><td>3</td><td>20</td><td>560574a339f1b25e5...</td><td>f</td><td>東京都</td><td>渋谷・青山・自由が丘</td><td>c80173987b3515b63...</td><td>1</td><td>8000</td><td>8800.0</td></tr>\n",
       "<tr><td>2011-05-18</td><td>2011</td><td>5</td><td>18</td><td>3</td><td>20</td><td>560574a339f1b25e5...</td><td>f</td><td>東京都</td><td>新宿・高田馬場・中野・吉祥寺</td><td>d3ce3a8259e675597...</td><td>1</td><td>8000</td><td>8800.0</td></tr>\n",
       "<tr><td>2011-05-18</td><td>2011</td><td>5</td><td>18</td><td>3</td><td>20</td><td>560574a339f1b25e5...</td><td>f</td><td>東京都</td><td>恵比寿・目黒・品川</td><td>ad5fcf63d2793315c...</td><td>1</td><td>8000</td><td>8800.0</td></tr>\n",
       "<tr><td>2011-05-18</td><td>2011</td><td>5</td><td>18</td><td>3</td><td>20</td><td>560574a339f1b25e5...</td><td>f</td><td>東京都</td><td>新宿・高田馬場・中野・吉祥寺</td><td>b3606c6ad14c7771a...</td><td>1</td><td>8000</td><td>8800.0</td></tr>\n",
       "<tr><td>2011-05-18</td><td>2011</td><td>5</td><td>18</td><td>3</td><td>20</td><td>560574a339f1b25e5...</td><td>f</td><td>東京都</td><td>群馬</td><td>d5f196b588dd5dc4b...</td><td>1</td><td>8000</td><td>8800.0</td></tr>\n",
       "<tr><td>2011-06-13</td><td>2011</td><td>6</td><td>13</td><td>1</td><td>24</td><td>e66ae91b978b3229f...</td><td>m</td><td>愛知県</td><td>愛知</td><td>fe61ec0d6cc9b0869...</td><td>1</td><td>8000</td><td>8800.0</td></tr>\n",
       "<tr><td>2012-02-08</td><td>2012</td><td>2</td><td>8</td><td>3</td><td>6</td><td>43fc18f32eafb0571...</td><td>m</td><td>-</td><td>山形</td><td>d88f6ab0f9b8d737c...</td><td>1</td><td>8000</td><td>8800.0</td></tr>\n",
       "<tr><td>2012-02-08</td><td>2012</td><td>2</td><td>8</td><td>3</td><td>6</td><td>43fc18f32eafb0571...</td><td>m</td><td>-</td><td>新宿・高田馬場・中野・吉祥寺</td><td>1cef71947aa1f80e7...</td><td>1</td><td>8000</td><td>8800.0</td></tr>\n",
       "</table>\n",
       "only showing top 20 rows\n"
      ],
      "text/plain": [
       "+----------+----+-----+---+---+----+--------------------+------+------+----------------------------+--------------------+----------+-----+--------+\n",
       "|      date|year|month|day|dow|week|             user_id|sex_id|  name|                   area_name|        purchased_id|item_count| cost|cost_VAT|\n",
       "+----------+----+-----+---+---+----+--------------------+------+------+----------------------------+--------------------+----------+-----+--------+\n",
       "|2012-03-28|2012|    3| 28|  3|  13|d9dca3cb44bab12ba...|     f|     -|                        兵庫|c820a8882374a4e47...|         1| 8000|  8800.0|\n",
       "|2011-05-18|2011|    5| 18|  3|  20|560574a339f1b25e5...|     f|東京都|      銀座・新橋・東京・上野|1b4eb2435421ede98...|         1| 8000|  8800.0|\n",
       "|2011-05-18|2011|    5| 18|  3|  20|560574a339f1b25e5...|     f|東京都|          恵比寿・目黒・品川|36b5f9ba46c44b655...|         1| 8000|  8800.0|\n",
       "|2011-05-18|2011|    5| 18|  3|  20|560574a339f1b25e5...|     f|東京都|          恵比寿・目黒・品川|2f30f46937cc90047...|         1| 8000|  8800.0|\n",
       "|2011-05-18|2011|    5| 18|  3|  20|560574a339f1b25e5...|     f|東京都|          恵比寿・目黒・品川|4d000c64a55ac573d...|         1| 8000|  8800.0|\n",
       "|2011-05-18|2011|    5| 18|  3|  20|560574a339f1b25e5...|     f|東京都|          恵比寿・目黒・品川|d8b030c8a4a2c1051...|         1| 8000|  8800.0|\n",
       "|2011-05-18|2011|    5| 18|  3|  20|560574a339f1b25e5...|     f|東京都|          恵比寿・目黒・品川|2c98138766edf5d5b...|         2|16000| 17600.0|\n",
       "|2011-05-18|2011|    5| 18|  3|  20|560574a339f1b25e5...|     f|東京都|        渋谷・青山・自由が丘|5a45d62c72a4cc415...|         2|16000| 17600.0|\n",
       "|2011-05-18|2011|    5| 18|  3|  20|560574a339f1b25e5...|     f|東京都|        渋谷・青山・自由が丘|592bb67c0553648d6...|         1| 8000|  8800.0|\n",
       "|2011-05-18|2011|    5| 18|  3|  20|560574a339f1b25e5...|     f|東京都|          恵比寿・目黒・品川|509883c481716b1f3...|         1| 8000|  8800.0|\n",
       "|2011-05-18|2011|    5| 18|  3|  20|560574a339f1b25e5...|     f|東京都|        渋谷・青山・自由が丘|231e87e928a48403a...|         2|16000| 17600.0|\n",
       "|2011-05-18|2011|    5| 18|  3|  20|560574a339f1b25e5...|     f|東京都|      銀座・新橋・東京・上野|6f0b1da67d70392cb...|         2|16000| 17600.0|\n",
       "|2011-05-18|2011|    5| 18|  3|  20|560574a339f1b25e5...|     f|東京都|        渋谷・青山・自由が丘|c80173987b3515b63...|         1| 8000|  8800.0|\n",
       "|2011-05-18|2011|    5| 18|  3|  20|560574a339f1b25e5...|     f|東京都|新宿・高田馬場・中野・吉祥寺|d3ce3a8259e675597...|         1| 8000|  8800.0|\n",
       "|2011-05-18|2011|    5| 18|  3|  20|560574a339f1b25e5...|     f|東京都|          恵比寿・目黒・品川|ad5fcf63d2793315c...|         1| 8000|  8800.0|\n",
       "|2011-05-18|2011|    5| 18|  3|  20|560574a339f1b25e5...|     f|東京都|新宿・高田馬場・中野・吉祥寺|b3606c6ad14c7771a...|         1| 8000|  8800.0|\n",
       "|2011-05-18|2011|    5| 18|  3|  20|560574a339f1b25e5...|     f|東京都|                        群馬|d5f196b588dd5dc4b...|         1| 8000|  8800.0|\n",
       "|2011-06-13|2011|    6| 13|  1|  24|e66ae91b978b3229f...|     m|愛知県|                        愛知|fe61ec0d6cc9b0869...|         1| 8000|  8800.0|\n",
       "|2012-02-08|2012|    2|  8|  3|   6|43fc18f32eafb0571...|     m|     -|                        山形|d88f6ab0f9b8d737c...|         1| 8000|  8800.0|\n",
       "|2012-02-08|2012|    2|  8|  3|   6|43fc18f32eafb0571...|     m|     -|新宿・高田馬場・中野・吉祥寺|1cef71947aa1f80e7...|         1| 8000|  8800.0|\n",
       "+----------+----+-----+---+---+----+--------------------+------+------+----------------------------+--------------------+----------+-----+--------+\n",
       "only showing top 20 rows"
      ]
     },
     "metadata": {},
     "output_type": "display_data"
    }
   ],
   "source": [
    "df_null_replaced = df_null_replaced.withColumn('dow', F.col('dow')-1)\n",
    "display(df_null_replaced)"
   ]
  },
  {
   "cell_type": "markdown",
   "id": "c613b715-a777-43c8-a1df-0646486027d7",
   "metadata": {},
   "source": [
    "### 6.구분열 기준 수치열 합으로 중복 제거 "
   ]
  },
  {
   "cell_type": "code",
   "execution_count": 36,
   "id": "f01cc48a-fb8d-4d74-a03f-09eba04b7367",
   "metadata": {
    "scrolled": true
   },
   "outputs": [
    {
     "data": {
      "text/html": [
       "<table border='1'>\n",
       "<tr><th>date</th><th>year</th><th>month</th><th>day</th><th>dow</th><th>week</th><th>user_id</th><th>sex_id</th><th>name</th><th>area_name</th><th>purchased_id</th><th>item_count_agg</th><th>cost_agg</th><th>cost_VAT_agg</th></tr>\n",
       "<tr><td>2012-01-30</td><td>2012</td><td>1</td><td>30</td><td>1</td><td>5</td><td>f55c2f67be0321adc...</td><td>f</td><td>千葉県</td><td>栃木</td><td>2779ec028f8a6b0e8...</td><td>1</td><td>8000</td><td>8800.0</td></tr>\n",
       "<tr><td>2011-10-29</td><td>2011</td><td>10</td><td>29</td><td>6</td><td>43</td><td>7e7fef0e10cf867c9...</td><td>m</td><td>-</td><td>愛知</td><td>7655b2feee390e81c...</td><td>1</td><td>8000</td><td>8800.0</td></tr>\n",
       "<tr><td>2012-02-25</td><td>2012</td><td>2</td><td>25</td><td>6</td><td>8</td><td>f246fa8279a41f21e...</td><td>m</td><td>-</td><td>奈良</td><td>1f6142427b23ecd94...</td><td>2</td><td>16000</td><td>17600.0</td></tr>\n",
       "<tr><td>2011-07-09</td><td>2011</td><td>7</td><td>9</td><td>6</td><td>27</td><td>79893d409081aeaed...</td><td>f</td><td>大阪府</td><td>キタ</td><td>e4593ed444796dfea...</td><td>2</td><td>16000</td><td>17600.0</td></tr>\n",
       "<tr><td>2010-11-17</td><td>2010</td><td>11</td><td>17</td><td>3</td><td>46</td><td>6434a69c5df328f00...</td><td>f</td><td>東京都</td><td>立川・町田・八王子他</td><td>86cc54962769e8cff...</td><td>1</td><td>8000</td><td>8800.0</td></tr>\n",
       "<tr><td>2011-11-13</td><td>2011</td><td>11</td><td>13</td><td>0</td><td>45</td><td>0c19892c7e2fc274a...</td><td>m</td><td>福岡県</td><td>渋谷・青山・自由が丘</td><td>7ea8f1a8cc9fd02a2...</td><td>3</td><td>24000</td><td>26400.000000000004</td></tr>\n",
       "<tr><td>2011-07-30</td><td>2011</td><td>7</td><td>30</td><td>6</td><td>30</td><td>7734cde45d6a1b8b0...</td><td>m</td><td>-</td><td>新宿・高田馬場・中野・吉祥寺</td><td>e955ca644c7861299...</td><td>1</td><td>8000</td><td>8800.0</td></tr>\n",
       "<tr><td>2011-03-10</td><td>2011</td><td>3</td><td>10</td><td>4</td><td>10</td><td>8e5755396392ba36a...</td><td>m</td><td>東京都</td><td>赤坂・六本木・麻布</td><td>f018ef6c7fa679195...</td><td>1</td><td>8000</td><td>8800.0</td></tr>\n",
       "<tr><td>2010-11-16</td><td>2010</td><td>11</td><td>16</td><td>2</td><td>46</td><td>3eb03ecb7f08e8544...</td><td>m</td><td>愛知県</td><td>ミナミ他</td><td>ab75ceb398adde2f2...</td><td>1</td><td>8000</td><td>8800.0</td></tr>\n",
       "<tr><td>2011-05-27</td><td>2011</td><td>5</td><td>27</td><td>5</td><td>21</td><td>7afc4e216672636f6...</td><td>m</td><td>神奈川県</td><td>赤坂・六本木・麻布</td><td>830467a8a0754cdba...</td><td>1</td><td>8000</td><td>8800.0</td></tr>\n",
       "<tr><td>2011-08-07</td><td>2011</td><td>8</td><td>7</td><td>0</td><td>31</td><td>286ade808655dcf7d...</td><td>m</td><td>-</td><td>キタ</td><td>08bde9a837d70d5c7...</td><td>2</td><td>16000</td><td>17600.0</td></tr>\n",
       "<tr><td>2010-11-14</td><td>2010</td><td>11</td><td>14</td><td>0</td><td>45</td><td>dc2b2b7c781f94a66...</td><td>m</td><td>東京都</td><td>栃木</td><td>a6bc56bb5ef78a5bc...</td><td>1</td><td>8000</td><td>8800.0</td></tr>\n",
       "<tr><td>2010-12-09</td><td>2010</td><td>12</td><td>9</td><td>4</td><td>49</td><td>1dc0fda3f9667b0e4...</td><td>m</td><td>埼玉県</td><td>赤坂・六本木・麻布</td><td>d17e744afbf14caf6...</td><td>1</td><td>8000</td><td>8800.0</td></tr>\n",
       "<tr><td>2012-04-11</td><td>2012</td><td>4</td><td>11</td><td>3</td><td>15</td><td>f27c4a862e3c8b16d...</td><td>f</td><td>-</td><td>岩手</td><td>b440afc53eabea554...</td><td>2</td><td>16000</td><td>17600.0</td></tr>\n",
       "<tr><td>2011-02-02</td><td>2011</td><td>2</td><td>2</td><td>3</td><td>5</td><td>de267318d235a4539...</td><td>f</td><td>-</td><td>銀座・新橋・東京・上野</td><td>d67f122401974b8a7...</td><td>2</td><td>16000</td><td>17600.0</td></tr>\n",
       "<tr><td>2011-02-12</td><td>2011</td><td>2</td><td>12</td><td>6</td><td>6</td><td>3d6410a0a66b8baf9...</td><td>m</td><td>福岡県</td><td>福岡</td><td>451e8b093fa91687c...</td><td>1</td><td>8000</td><td>8800.0</td></tr>\n",
       "<tr><td>2012-01-22</td><td>2012</td><td>1</td><td>22</td><td>0</td><td>3</td><td>30010b84427597027...</td><td>f</td><td>東京都</td><td>新宿・高田馬場・中野・吉祥寺</td><td>23655cdb70e619745...</td><td>1</td><td>8000</td><td>8800.0</td></tr>\n",
       "<tr><td>2010-11-16</td><td>2010</td><td>11</td><td>16</td><td>2</td><td>46</td><td>26129426000a31b2d...</td><td>f</td><td>大阪府</td><td>新宿・高田馬場・中野・吉祥寺</td><td>ba5cab4ad7ebabe81...</td><td>1</td><td>8000</td><td>8800.0</td></tr>\n",
       "<tr><td>2011-07-13</td><td>2011</td><td>7</td><td>13</td><td>3</td><td>28</td><td>27c9d95dec3aa3a48...</td><td>f</td><td>大阪府</td><td>新宿・高田馬場・中野・吉祥寺</td><td>eedefae0ca8db0ace...</td><td>1</td><td>8000</td><td>8800.0</td></tr>\n",
       "<tr><td>2010-10-31</td><td>2010</td><td>10</td><td>31</td><td>0</td><td>43</td><td>d47592bfbac570161...</td><td>f</td><td>東京都</td><td>千葉</td><td>6535296aa1d48ce11...</td><td>1</td><td>8000</td><td>8800.0</td></tr>\n",
       "</table>\n",
       "only showing top 20 rows\n"
      ],
      "text/plain": [
       "+----------+----+-----+---+---+----+--------------------+------+--------+----------------------------+--------------------+--------------+--------+------------------+\n",
       "|      date|year|month|day|dow|week|             user_id|sex_id|    name|                   area_name|        purchased_id|item_count_agg|cost_agg|      cost_VAT_agg|\n",
       "+----------+----+-----+---+---+----+--------------------+------+--------+----------------------------+--------------------+--------------+--------+------------------+\n",
       "|2012-01-30|2012|    1| 30|  1|   5|f55c2f67be0321adc...|     f|  千葉県|                        栃木|2779ec028f8a6b0e8...|             1|    8000|            8800.0|\n",
       "|2011-10-29|2011|   10| 29|  6|  43|7e7fef0e10cf867c9...|     m|       -|                        愛知|7655b2feee390e81c...|             1|    8000|            8800.0|\n",
       "|2012-02-25|2012|    2| 25|  6|   8|f246fa8279a41f21e...|     m|       -|                        奈良|1f6142427b23ecd94...|             2|   16000|           17600.0|\n",
       "|2011-07-09|2011|    7|  9|  6|  27|79893d409081aeaed...|     f|  大阪府|                        キタ|e4593ed444796dfea...|             2|   16000|           17600.0|\n",
       "|2010-11-17|2010|   11| 17|  3|  46|6434a69c5df328f00...|     f|  東京都|        立川・町田・八王子他|86cc54962769e8cff...|             1|    8000|            8800.0|\n",
       "|2011-11-13|2011|   11| 13|  0|  45|0c19892c7e2fc274a...|     m|  福岡県|        渋谷・青山・自由が丘|7ea8f1a8cc9fd02a2...|             3|   24000|26400.000000000004|\n",
       "|2011-07-30|2011|    7| 30|  6|  30|7734cde45d6a1b8b0...|     m|       -|新宿・高田馬場・中野・吉祥寺|e955ca644c7861299...|             1|    8000|            8800.0|\n",
       "|2011-03-10|2011|    3| 10|  4|  10|8e5755396392ba36a...|     m|  東京都|          赤坂・六本木・麻布|f018ef6c7fa679195...|             1|    8000|            8800.0|\n",
       "|2010-11-16|2010|   11| 16|  2|  46|3eb03ecb7f08e8544...|     m|  愛知県|                    ミナミ他|ab75ceb398adde2f2...|             1|    8000|            8800.0|\n",
       "|2011-05-27|2011|    5| 27|  5|  21|7afc4e216672636f6...|     m|神奈川県|          赤坂・六本木・麻布|830467a8a0754cdba...|             1|    8000|            8800.0|\n",
       "|2011-08-07|2011|    8|  7|  0|  31|286ade808655dcf7d...|     m|       -|                        キタ|08bde9a837d70d5c7...|             2|   16000|           17600.0|\n",
       "|2010-11-14|2010|   11| 14|  0|  45|dc2b2b7c781f94a66...|     m|  東京都|                        栃木|a6bc56bb5ef78a5bc...|             1|    8000|            8800.0|\n",
       "|2010-12-09|2010|   12|  9|  4|  49|1dc0fda3f9667b0e4...|     m|  埼玉県|          赤坂・六本木・麻布|d17e744afbf14caf6...|             1|    8000|            8800.0|\n",
       "|2012-04-11|2012|    4| 11|  3|  15|f27c4a862e3c8b16d...|     f|       -|                        岩手|b440afc53eabea554...|             2|   16000|           17600.0|\n",
       "|2011-02-02|2011|    2|  2|  3|   5|de267318d235a4539...|     f|       -|      銀座・新橋・東京・上野|d67f122401974b8a7...|             2|   16000|           17600.0|\n",
       "|2011-02-12|2011|    2| 12|  6|   6|3d6410a0a66b8baf9...|     m|  福岡県|                        福岡|451e8b093fa91687c...|             1|    8000|            8800.0|\n",
       "|2012-01-22|2012|    1| 22|  0|   3|30010b84427597027...|     f|  東京都|新宿・高田馬場・中野・吉祥寺|23655cdb70e619745...|             1|    8000|            8800.0|\n",
       "|2010-11-16|2010|   11| 16|  2|  46|26129426000a31b2d...|     f|  大阪府|新宿・高田馬場・中野・吉祥寺|ba5cab4ad7ebabe81...|             1|    8000|            8800.0|\n",
       "|2011-07-13|2011|    7| 13|  3|  28|27c9d95dec3aa3a48...|     f|  大阪府|新宿・高田馬場・中野・吉祥寺|eedefae0ca8db0ace...|             1|    8000|            8800.0|\n",
       "|2010-10-31|2010|   10| 31|  0|  43|d47592bfbac570161...|     f|  東京都|                        千葉|6535296aa1d48ce11...|             1|    8000|            8800.0|\n",
       "+----------+----+-----+---+---+----+--------------------+------+--------+----------------------------+--------------------+--------------+--------+------------------+\n",
       "only showing top 20 rows"
      ]
     },
     "metadata": {},
     "output_type": "display_data"
    }
   ],
   "source": [
    "result = (\n",
    "    df_null_replaced\n",
    "    .groupby('date', 'year', 'month', 'day', 'dow', 'week', 'user_id', 'sex_id', 'name', 'area_name', 'purchased_id')\n",
    "    .agg(\n",
    "        F.sum('item_count').alias('item_count_agg'), \n",
    "        F.sum('cost').alias('cost_agg'), \n",
    "        F.sum('cost_VAT').alias('cost_VAT_agg'), \n",
    "    )\n",
    ")\n",
    "display(result)"
   ]
  },
  {
   "cell_type": "code",
   "execution_count": null,
   "id": "82a8b3ba-51be-4dd1-ad27-f9c6336d23ef",
   "metadata": {},
   "outputs": [],
   "source": []
  }
 ],
 "metadata": {
  "kernelspec": {
   "display_name": "Python 3 (ipykernel)",
   "language": "python",
   "name": "python3"
  },
  "language_info": {
   "codemirror_mode": {
    "name": "ipython",
    "version": 3
   },
   "file_extension": ".py",
   "mimetype": "text/x-python",
   "name": "python",
   "nbconvert_exporter": "python",
   "pygments_lexer": "ipython3",
   "version": "3.11.6"
  }
 },
 "nbformat": 4,
 "nbformat_minor": 5
}
